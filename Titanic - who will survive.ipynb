{
 "cells":[
  {
   "cell_type":"markdown",
   "source":[
    "# **PROJECT #2: TITANIC - WHO WILL SURVIVE?**"
   ],
   "attachments":{
    
   },
   "metadata":{
    "datalore":{
     "node_id":"sUyOgcH37H1a45g2HoCdNb",
     "type":"MD",
     "hide_input_from_viewers":false,
     "hide_output_from_viewers":false
    }
   }
  },
  {
   "cell_type":"markdown",
   "source":[
    "## **EXPLORATORY DATA ANALYSIS**"
   ],
   "attachments":{
    
   },
   "metadata":{
    "datalore":{
     "node_id":"vPCwY3DoFo3SZqC0uPa1qK",
     "type":"MD",
     "hide_input_from_viewers":false,
     "hide_output_from_viewers":false
    }
   }
  },
  {
   "cell_type":"code",
   "source":[
    "# importing required libraries for data analysis and wrangling\n",
    "import pandas as pd\n",
    "import numpy as np\n",
    "import random as rnd\n",
    "\n",
    "# importing libraries needed for data visualization\n",
    "import seaborn as sns\n",
    "import matplotlib.pyplot as plt\n",
    "%matplotlib inline\n",
    "\n",
    "# importing libraries for regression and machine learning\n",
    "from sklearn.linear_model import LogisticRegression\n",
    "from sklearn.neighbors import KNeighborsClassifier\n",
    "from sklearn.tree import DecisionTreeClassifier"
   ],
   "execution_count":40,
   "outputs":[
    
   ],
   "metadata":{
    "datalore":{
     "node_id":"sFVKOvMbrHzDRj8z3gH1n7",
     "type":"CODE",
     "hide_input_from_viewers":false,
     "hide_output_from_viewers":false
    }
   }
  },
  {
   "cell_type":"markdown",
   "source":[
    "**LOAD TRAIN AND TEST FILES FROM TITANIC.ZIP**\n",
    "\n",
    "In this section, I have acquired the train and test files from the titanic.zip folder. Once I have the individual datasets and have them converted into a Pandas Dataframe, I combine the two datasets to run operations on the both of them together.\n",
    "\n",
    "I am printing out the different columns available in the train dataset. This will help to manipulate and analyze the dataset."
   ],
   "attachments":{
    
   },
   "metadata":{
    "datalore":{
     "node_id":"a6f0pUWI6EGdPX5YrprjgR",
     "type":"MD",
     "hide_input_from_viewers":false,
     "hide_output_from_viewers":false
    }
   }
  },
  {
   "cell_type":"code",
   "source":[
    "train = pd.read_csv('train.csv')\n",
    "test = pd.read_csv('test.csv')\n",
    "combine = [train, test]\n",
    "print(train.columns.values)"
   ],
   "execution_count":41,
   "outputs":[
    {
     "name":"stdout",
     "text":[
      "['PassengerId' 'Survived' 'Pclass' 'Name' 'Sex' 'Age' 'SibSp' 'Parch'\n",
      " 'Ticket' 'Fare' 'Cabin' 'Embarked']\n"
     ],
     "output_type":"stream"
    }
   ],
   "metadata":{
    "datalore":{
     "node_id":"LxBEEDcL3m8x5EcIhVYFpE",
     "type":"CODE",
     "hide_input_from_viewers":false,
     "hide_output_from_viewers":false
    }
   }
  },
  {
   "cell_type":"markdown",
   "source":[
    "To see how the data of the train dataset has been organized, I call the head function on the same. Using this property, I preview the first three rows of the dataset. I do the same for the test dataset."
   ],
   "attachments":{
    
   },
   "metadata":{
    "datalore":{
     "node_id":"ngym9lFKKh1LcoU7MJbGn3",
     "type":"MD",
     "hide_input_from_viewers":false,
     "hide_output_from_viewers":false
    }
   }
  },
  {
   "cell_type":"code",
   "source":[
    "train.head(3)"
   ],
   "execution_count":42,
   "outputs":[
    {
     "data":{
      "text\/html":[
       "<div>\n",
       "<style scoped>\n",
       "    .dataframe tbody tr th:only-of-type {\n",
       "        vertical-align: middle;\n",
       "    }\n",
       "\n",
       "    .dataframe tbody tr th {\n",
       "        vertical-align: top;\n",
       "    }\n",
       "\n",
       "    .dataframe thead th {\n",
       "        text-align: right;\n",
       "    }\n",
       "<\/style>\n",
       "<table border=\"1\" class=\"dataframe\">\n",
       "  <thead>\n",
       "    <tr style=\"text-align: right;\">\n",
       "      <th><\/th>\n",
       "      <th>PassengerId<\/th>\n",
       "      <th>Survived<\/th>\n",
       "      <th>Pclass<\/th>\n",
       "      <th>Name<\/th>\n",
       "      <th>Sex<\/th>\n",
       "      <th>Age<\/th>\n",
       "      <th>SibSp<\/th>\n",
       "      <th>Parch<\/th>\n",
       "      <th>Ticket<\/th>\n",
       "      <th>Fare<\/th>\n",
       "      <th>Cabin<\/th>\n",
       "      <th>Embarked<\/th>\n",
       "    <\/tr>\n",
       "  <\/thead>\n",
       "  <tbody>\n",
       "    <tr>\n",
       "      <th>0<\/th>\n",
       "      <td>1<\/td>\n",
       "      <td>0<\/td>\n",
       "      <td>3<\/td>\n",
       "      <td>Braund, Mr. Owen Harris<\/td>\n",
       "      <td>male<\/td>\n",
       "      <td>22.0<\/td>\n",
       "      <td>1<\/td>\n",
       "      <td>0<\/td>\n",
       "      <td>A\/5 21171<\/td>\n",
       "      <td>7.2500<\/td>\n",
       "      <td>NaN<\/td>\n",
       "      <td>S<\/td>\n",
       "    <\/tr>\n",
       "    <tr>\n",
       "      <th>1<\/th>\n",
       "      <td>2<\/td>\n",
       "      <td>1<\/td>\n",
       "      <td>1<\/td>\n",
       "      <td>Cumings, Mrs. John Bradley (Florence Briggs Th...<\/td>\n",
       "      <td>female<\/td>\n",
       "      <td>38.0<\/td>\n",
       "      <td>1<\/td>\n",
       "      <td>0<\/td>\n",
       "      <td>PC 17599<\/td>\n",
       "      <td>71.2833<\/td>\n",
       "      <td>C85<\/td>\n",
       "      <td>C<\/td>\n",
       "    <\/tr>\n",
       "    <tr>\n",
       "      <th>2<\/th>\n",
       "      <td>3<\/td>\n",
       "      <td>1<\/td>\n",
       "      <td>3<\/td>\n",
       "      <td>Heikkinen, Miss. Laina<\/td>\n",
       "      <td>female<\/td>\n",
       "      <td>26.0<\/td>\n",
       "      <td>0<\/td>\n",
       "      <td>0<\/td>\n",
       "      <td>STON\/O2. 3101282<\/td>\n",
       "      <td>7.9250<\/td>\n",
       "      <td>NaN<\/td>\n",
       "      <td>S<\/td>\n",
       "    <\/tr>\n",
       "  <\/tbody>\n",
       "<\/table>\n",
       "<\/div>"
      ]
     },
     "metadata":{
      
     },
     "output_type":"display_data"
    }
   ],
   "metadata":{
    "datalore":{
     "node_id":"2kjO7W97x71Ehr12Kl97V4",
     "type":"CODE",
     "hide_input_from_viewers":false,
     "hide_output_from_viewers":false
    }
   }
  },
  {
   "cell_type":"code",
   "source":[
    "train.tail()"
   ],
   "execution_count":43,
   "outputs":[
    {
     "data":{
      "text\/html":[
       "<div>\n",
       "<style scoped>\n",
       "    .dataframe tbody tr th:only-of-type {\n",
       "        vertical-align: middle;\n",
       "    }\n",
       "\n",
       "    .dataframe tbody tr th {\n",
       "        vertical-align: top;\n",
       "    }\n",
       "\n",
       "    .dataframe thead th {\n",
       "        text-align: right;\n",
       "    }\n",
       "<\/style>\n",
       "<table border=\"1\" class=\"dataframe\">\n",
       "  <thead>\n",
       "    <tr style=\"text-align: right;\">\n",
       "      <th><\/th>\n",
       "      <th>PassengerId<\/th>\n",
       "      <th>Survived<\/th>\n",
       "      <th>Pclass<\/th>\n",
       "      <th>Name<\/th>\n",
       "      <th>Sex<\/th>\n",
       "      <th>Age<\/th>\n",
       "      <th>SibSp<\/th>\n",
       "      <th>Parch<\/th>\n",
       "      <th>Ticket<\/th>\n",
       "      <th>Fare<\/th>\n",
       "      <th>Cabin<\/th>\n",
       "      <th>Embarked<\/th>\n",
       "    <\/tr>\n",
       "  <\/thead>\n",
       "  <tbody>\n",
       "    <tr>\n",
       "      <th>886<\/th>\n",
       "      <td>887<\/td>\n",
       "      <td>0<\/td>\n",
       "      <td>2<\/td>\n",
       "      <td>Montvila, Rev. Juozas<\/td>\n",
       "      <td>male<\/td>\n",
       "      <td>27.0<\/td>\n",
       "      <td>0<\/td>\n",
       "      <td>0<\/td>\n",
       "      <td>211536<\/td>\n",
       "      <td>13.00<\/td>\n",
       "      <td>NaN<\/td>\n",
       "      <td>S<\/td>\n",
       "    <\/tr>\n",
       "    <tr>\n",
       "      <th>887<\/th>\n",
       "      <td>888<\/td>\n",
       "      <td>1<\/td>\n",
       "      <td>1<\/td>\n",
       "      <td>Graham, Miss. Margaret Edith<\/td>\n",
       "      <td>female<\/td>\n",
       "      <td>19.0<\/td>\n",
       "      <td>0<\/td>\n",
       "      <td>0<\/td>\n",
       "      <td>112053<\/td>\n",
       "      <td>30.00<\/td>\n",
       "      <td>B42<\/td>\n",
       "      <td>S<\/td>\n",
       "    <\/tr>\n",
       "    <tr>\n",
       "      <th>888<\/th>\n",
       "      <td>889<\/td>\n",
       "      <td>0<\/td>\n",
       "      <td>3<\/td>\n",
       "      <td>Johnston, Miss. Catherine Helen \"Carrie\"<\/td>\n",
       "      <td>female<\/td>\n",
       "      <td>NaN<\/td>\n",
       "      <td>1<\/td>\n",
       "      <td>2<\/td>\n",
       "      <td>W.\/C. 6607<\/td>\n",
       "      <td>23.45<\/td>\n",
       "      <td>NaN<\/td>\n",
       "      <td>S<\/td>\n",
       "    <\/tr>\n",
       "    <tr>\n",
       "      <th>889<\/th>\n",
       "      <td>890<\/td>\n",
       "      <td>1<\/td>\n",
       "      <td>1<\/td>\n",
       "      <td>Behr, Mr. Karl Howell<\/td>\n",
       "      <td>male<\/td>\n",
       "      <td>26.0<\/td>\n",
       "      <td>0<\/td>\n",
       "      <td>0<\/td>\n",
       "      <td>111369<\/td>\n",
       "      <td>30.00<\/td>\n",
       "      <td>C148<\/td>\n",
       "      <td>C<\/td>\n",
       "    <\/tr>\n",
       "    <tr>\n",
       "      <th>890<\/th>\n",
       "      <td>891<\/td>\n",
       "      <td>0<\/td>\n",
       "      <td>3<\/td>\n",
       "      <td>Dooley, Mr. Patrick<\/td>\n",
       "      <td>male<\/td>\n",
       "      <td>32.0<\/td>\n",
       "      <td>0<\/td>\n",
       "      <td>0<\/td>\n",
       "      <td>370376<\/td>\n",
       "      <td>7.75<\/td>\n",
       "      <td>NaN<\/td>\n",
       "      <td>Q<\/td>\n",
       "    <\/tr>\n",
       "  <\/tbody>\n",
       "<\/table>\n",
       "<\/div>"
      ]
     },
     "metadata":{
      
     },
     "output_type":"display_data"
    }
   ],
   "metadata":{
    "datalore":{
     "node_id":"H93zWynDbLxDO8BNUf6jbE",
     "type":"CODE",
     "hide_input_from_viewers":false,
     "hide_output_from_viewers":false
    }
   }
  },
  {
   "cell_type":"code",
   "source":[
    "test.head(3)"
   ],
   "execution_count":44,
   "outputs":[
    {
     "data":{
      "text\/html":[
       "<div>\n",
       "<style scoped>\n",
       "    .dataframe tbody tr th:only-of-type {\n",
       "        vertical-align: middle;\n",
       "    }\n",
       "\n",
       "    .dataframe tbody tr th {\n",
       "        vertical-align: top;\n",
       "    }\n",
       "\n",
       "    .dataframe thead th {\n",
       "        text-align: right;\n",
       "    }\n",
       "<\/style>\n",
       "<table border=\"1\" class=\"dataframe\">\n",
       "  <thead>\n",
       "    <tr style=\"text-align: right;\">\n",
       "      <th><\/th>\n",
       "      <th>PassengerId<\/th>\n",
       "      <th>Pclass<\/th>\n",
       "      <th>Name<\/th>\n",
       "      <th>Sex<\/th>\n",
       "      <th>Age<\/th>\n",
       "      <th>SibSp<\/th>\n",
       "      <th>Parch<\/th>\n",
       "      <th>Ticket<\/th>\n",
       "      <th>Fare<\/th>\n",
       "      <th>Cabin<\/th>\n",
       "      <th>Embarked<\/th>\n",
       "    <\/tr>\n",
       "  <\/thead>\n",
       "  <tbody>\n",
       "    <tr>\n",
       "      <th>0<\/th>\n",
       "      <td>892<\/td>\n",
       "      <td>3<\/td>\n",
       "      <td>Kelly, Mr. James<\/td>\n",
       "      <td>male<\/td>\n",
       "      <td>34.5<\/td>\n",
       "      <td>0<\/td>\n",
       "      <td>0<\/td>\n",
       "      <td>330911<\/td>\n",
       "      <td>7.8292<\/td>\n",
       "      <td>NaN<\/td>\n",
       "      <td>Q<\/td>\n",
       "    <\/tr>\n",
       "    <tr>\n",
       "      <th>1<\/th>\n",
       "      <td>893<\/td>\n",
       "      <td>3<\/td>\n",
       "      <td>Wilkes, Mrs. James (Ellen Needs)<\/td>\n",
       "      <td>female<\/td>\n",
       "      <td>47.0<\/td>\n",
       "      <td>1<\/td>\n",
       "      <td>0<\/td>\n",
       "      <td>363272<\/td>\n",
       "      <td>7.0000<\/td>\n",
       "      <td>NaN<\/td>\n",
       "      <td>S<\/td>\n",
       "    <\/tr>\n",
       "    <tr>\n",
       "      <th>2<\/th>\n",
       "      <td>894<\/td>\n",
       "      <td>2<\/td>\n",
       "      <td>Myles, Mr. Thomas Francis<\/td>\n",
       "      <td>male<\/td>\n",
       "      <td>62.0<\/td>\n",
       "      <td>0<\/td>\n",
       "      <td>0<\/td>\n",
       "      <td>240276<\/td>\n",
       "      <td>9.6875<\/td>\n",
       "      <td>NaN<\/td>\n",
       "      <td>Q<\/td>\n",
       "    <\/tr>\n",
       "  <\/tbody>\n",
       "<\/table>\n",
       "<\/div>"
      ]
     },
     "metadata":{
      
     },
     "output_type":"display_data"
    }
   ],
   "metadata":{
    "datalore":{
     "node_id":"MdEMI8rLyKYddiYCHlGxHR",
     "type":"CODE",
     "hide_input_from_viewers":false,
     "hide_output_from_viewers":false
    }
   }
  },
  {
   "cell_type":"markdown",
   "source":[
    "**ANALYZING THE DATASET**\n",
    "\n",
    "Before moving on, it is useful to find out the different data types for the various features. \n",
    "\n",
    "In the train dataset:\n",
    "- 7 features or columns are int or float\n",
    "- 5 features or columns are string objects\n",
    "\n",
    "In the test dataset:\n",
    "- 6 features or columns are int or float\n",
    "- 5 features or columns are string objects"
   ],
   "attachments":{
    
   },
   "metadata":{
    "datalore":{
     "node_id":"m6C1IDg99qaF3aj0ZJMFhv",
     "type":"MD",
     "hide_input_from_viewers":false,
     "hide_output_from_viewers":false
    }
   }
  },
  {
   "cell_type":"code",
   "source":[
    "train.info()\n",
    "print('_'*40)\n",
    "test.info()"
   ],
   "execution_count":45,
   "outputs":[
    {
     "name":"stdout",
     "text":[
      "<class 'pandas.core.frame.DataFrame'>\n",
      "RangeIndex: 891 entries, 0 to 890\n",
      "Data columns (total 12 columns):\n",
      " #   Column       Non-Null Count  Dtype  \n",
      "---  ------       --------------  -----  \n",
      " 0   PassengerId  891 non-null    int64  \n",
      " 1   Survived     891 non-null    int64  \n",
      " 2   Pclass       891 non-null    int64  \n",
      " 3   Name         891 non-null    object \n",
      " 4   Sex          891 non-null    object \n",
      " 5   Age          714 non-null    float64\n",
      " 6   SibSp        891 non-null    int64  \n",
      " 7   Parch        891 non-null    int64  \n",
      " 8   Ticket       891 non-null    object \n",
      " 9   Fare         891 non-null    float64\n",
      " 10  Cabin        204 non-null    object \n",
      " 11  Embarked     889 non-null    object \n",
      "dtypes: float64(2), int64(5), object(5)\n",
      "memory usage: 83.7+ KB\n",
      "________________________________________\n",
      "<class 'pandas.core.frame.DataFrame'>\n",
      "RangeIndex: 418 entries, 0 to 417\n",
      "Data columns (total 11 columns):\n",
      " #   Column       Non-Null Count  Dtype  \n",
      "---  ------       --------------  -----  \n",
      " 0   PassengerId  418 non-null    int64  \n",
      " 1   Pclass       418 non-null    int64  \n",
      " 2   Name         418 non-null    object \n",
      " 3   Sex          418 non-null    object \n",
      " 4   Age          332 non-null    float64\n",
      " 5   SibSp        418 non-null    int64  \n",
      " 6   Parch        418 non-null    int64  \n",
      " 7   Ticket       418 non-null    object \n",
      " 8   Fare         417 non-null    float64\n",
      " 9   Cabin        91 non-null     object \n",
      " 10  Embarked     418 non-null    object \n",
      "dtypes: float64(2), int64(4), object(5)\n",
      "memory usage: 36.0+ KB\n"
     ],
     "output_type":"stream"
    }
   ],
   "metadata":{
    "datalore":{
     "node_id":"RUC9ZkXcdtljCkb2HsJSOM",
     "type":"CODE",
     "hide_input_from_viewers":false,
     "hide_output_from_viewers":false
    }
   }
  },
  {
   "cell_type":"markdown",
   "source":[
    "Next, I analyze the numerical features in the train dataset, that is, a total of seven features. \n",
    "\n",
    "- The train dataset has a total sample of 891.\n",
    "- Survived feature has values of either 0 or 1.\n",
    "- Around 38 % of samples survived representative of the actual survival rate at 32%.\n",
    "- Several passengers (> 75%) travelled without their parents or children.\n",
    "- Almost 30% of the passengers had spouses and\/or siblings aboard.\n",
    "- Few passengers (<1%) paid as high as a fare of $512.\n",
    "- Few elderly passengers (<1%) within the age range of 65-80.\n",
    "\n",
    "In the code cell below, I have reviewed the survival rate and parch distribution using percentile."
   ],
   "attachments":{
    
   },
   "metadata":{
    "datalore":{
     "node_id":"5cN56HIfZWlKL2F2czhz6V",
     "type":"MD",
     "hide_input_from_viewers":false,
     "hide_output_from_viewers":false
    }
   }
  },
  {
   "cell_type":"code",
   "source":[
    "train.describe()"
   ],
   "execution_count":46,
   "outputs":[
    {
     "data":{
      "text\/html":[
       "<div>\n",
       "<style scoped>\n",
       "    .dataframe tbody tr th:only-of-type {\n",
       "        vertical-align: middle;\n",
       "    }\n",
       "\n",
       "    .dataframe tbody tr th {\n",
       "        vertical-align: top;\n",
       "    }\n",
       "\n",
       "    .dataframe thead th {\n",
       "        text-align: right;\n",
       "    }\n",
       "<\/style>\n",
       "<table border=\"1\" class=\"dataframe\">\n",
       "  <thead>\n",
       "    <tr style=\"text-align: right;\">\n",
       "      <th><\/th>\n",
       "      <th>PassengerId<\/th>\n",
       "      <th>Survived<\/th>\n",
       "      <th>Pclass<\/th>\n",
       "      <th>Age<\/th>\n",
       "      <th>SibSp<\/th>\n",
       "      <th>Parch<\/th>\n",
       "      <th>Fare<\/th>\n",
       "    <\/tr>\n",
       "  <\/thead>\n",
       "  <tbody>\n",
       "    <tr>\n",
       "      <th>count<\/th>\n",
       "      <td>891.000000<\/td>\n",
       "      <td>891.000000<\/td>\n",
       "      <td>891.000000<\/td>\n",
       "      <td>714.000000<\/td>\n",
       "      <td>891.000000<\/td>\n",
       "      <td>891.000000<\/td>\n",
       "      <td>891.000000<\/td>\n",
       "    <\/tr>\n",
       "    <tr>\n",
       "      <th>mean<\/th>\n",
       "      <td>446.000000<\/td>\n",
       "      <td>0.383838<\/td>\n",
       "      <td>2.308642<\/td>\n",
       "      <td>29.699118<\/td>\n",
       "      <td>0.523008<\/td>\n",
       "      <td>0.381594<\/td>\n",
       "      <td>32.204208<\/td>\n",
       "    <\/tr>\n",
       "    <tr>\n",
       "      <th>std<\/th>\n",
       "      <td>257.353842<\/td>\n",
       "      <td>0.486592<\/td>\n",
       "      <td>0.836071<\/td>\n",
       "      <td>14.526497<\/td>\n",
       "      <td>1.102743<\/td>\n",
       "      <td>0.806057<\/td>\n",
       "      <td>49.693429<\/td>\n",
       "    <\/tr>\n",
       "    <tr>\n",
       "      <th>min<\/th>\n",
       "      <td>1.000000<\/td>\n",
       "      <td>0.000000<\/td>\n",
       "      <td>1.000000<\/td>\n",
       "      <td>0.420000<\/td>\n",
       "      <td>0.000000<\/td>\n",
       "      <td>0.000000<\/td>\n",
       "      <td>0.000000<\/td>\n",
       "    <\/tr>\n",
       "    <tr>\n",
       "      <th>25%<\/th>\n",
       "      <td>223.500000<\/td>\n",
       "      <td>0.000000<\/td>\n",
       "      <td>2.000000<\/td>\n",
       "      <td>20.125000<\/td>\n",
       "      <td>0.000000<\/td>\n",
       "      <td>0.000000<\/td>\n",
       "      <td>7.910400<\/td>\n",
       "    <\/tr>\n",
       "    <tr>\n",
       "      <th>50%<\/th>\n",
       "      <td>446.000000<\/td>\n",
       "      <td>0.000000<\/td>\n",
       "      <td>3.000000<\/td>\n",
       "      <td>28.000000<\/td>\n",
       "      <td>0.000000<\/td>\n",
       "      <td>0.000000<\/td>\n",
       "      <td>14.454200<\/td>\n",
       "    <\/tr>\n",
       "    <tr>\n",
       "      <th>75%<\/th>\n",
       "      <td>668.500000<\/td>\n",
       "      <td>1.000000<\/td>\n",
       "      <td>3.000000<\/td>\n",
       "      <td>38.000000<\/td>\n",
       "      <td>1.000000<\/td>\n",
       "      <td>0.000000<\/td>\n",
       "      <td>31.000000<\/td>\n",
       "    <\/tr>\n",
       "    <tr>\n",
       "      <th>max<\/th>\n",
       "      <td>891.000000<\/td>\n",
       "      <td>1.000000<\/td>\n",
       "      <td>3.000000<\/td>\n",
       "      <td>80.000000<\/td>\n",
       "      <td>8.000000<\/td>\n",
       "      <td>6.000000<\/td>\n",
       "      <td>512.329200<\/td>\n",
       "    <\/tr>\n",
       "  <\/tbody>\n",
       "<\/table>\n",
       "<\/div>"
      ]
     },
     "metadata":{
      
     },
     "output_type":"display_data"
    }
   ],
   "metadata":{
    "datalore":{
     "node_id":"dtjfE8X6xAvjsFzPKsvuNg",
     "type":"CODE",
     "hide_input_from_viewers":false,
     "hide_output_from_viewers":false
    }
   }
  },
  {
   "cell_type":"markdown",
   "source":[
    "After analysing the numerical features, I now analyze the non-numerical features.\n",
    "- Names are unique (count=unique=891)\n",
    "- There are two possible sex variables with 65% male (top=male, freq=577\/count=891).\n",
    "- There are many duplicates in Cabin values. Or several passengers shared a cabin.\n",
    "- Embarked has three possible values with S port used by most (top=S)\n",
    "- Ticket feature has high many duplicate values (ratio=22%)(unique=681)."
   ],
   "attachments":{
    
   },
   "metadata":{
    "datalore":{
     "node_id":"TcQ38puxTSkfOkkCEQxNRg",
     "type":"MD",
     "hide_input_from_viewers":false,
     "hide_output_from_viewers":false
    }
   }
  },
  {
   "cell_type":"code",
   "source":[
    "train.describe(include=['O'])"
   ],
   "execution_count":47,
   "outputs":[
    {
     "data":{
      "text\/html":[
       "<div>\n",
       "<style scoped>\n",
       "    .dataframe tbody tr th:only-of-type {\n",
       "        vertical-align: middle;\n",
       "    }\n",
       "\n",
       "    .dataframe tbody tr th {\n",
       "        vertical-align: top;\n",
       "    }\n",
       "\n",
       "    .dataframe thead th {\n",
       "        text-align: right;\n",
       "    }\n",
       "<\/style>\n",
       "<table border=\"1\" class=\"dataframe\">\n",
       "  <thead>\n",
       "    <tr style=\"text-align: right;\">\n",
       "      <th><\/th>\n",
       "      <th>Name<\/th>\n",
       "      <th>Sex<\/th>\n",
       "      <th>Ticket<\/th>\n",
       "      <th>Cabin<\/th>\n",
       "      <th>Embarked<\/th>\n",
       "    <\/tr>\n",
       "  <\/thead>\n",
       "  <tbody>\n",
       "    <tr>\n",
       "      <th>count<\/th>\n",
       "      <td>891<\/td>\n",
       "      <td>891<\/td>\n",
       "      <td>891<\/td>\n",
       "      <td>204<\/td>\n",
       "      <td>889<\/td>\n",
       "    <\/tr>\n",
       "    <tr>\n",
       "      <th>unique<\/th>\n",
       "      <td>891<\/td>\n",
       "      <td>2<\/td>\n",
       "      <td>681<\/td>\n",
       "      <td>147<\/td>\n",
       "      <td>3<\/td>\n",
       "    <\/tr>\n",
       "    <tr>\n",
       "      <th>top<\/th>\n",
       "      <td>Braund, Mr. Owen Harris<\/td>\n",
       "      <td>male<\/td>\n",
       "      <td>347082<\/td>\n",
       "      <td>B96 B98<\/td>\n",
       "      <td>S<\/td>\n",
       "    <\/tr>\n",
       "    <tr>\n",
       "      <th>freq<\/th>\n",
       "      <td>1<\/td>\n",
       "      <td>577<\/td>\n",
       "      <td>7<\/td>\n",
       "      <td>4<\/td>\n",
       "      <td>644<\/td>\n",
       "    <\/tr>\n",
       "  <\/tbody>\n",
       "<\/table>\n",
       "<\/div>"
      ]
     },
     "metadata":{
      
     },
     "output_type":"display_data"
    }
   ],
   "metadata":{
    "datalore":{
     "node_id":"b9Ftib6HRdFzqbafE2gwlR",
     "type":"CODE",
     "hide_input_from_viewers":false,
     "hide_output_from_viewers":false
    }
   }
  },
  {
   "cell_type":"markdown",
   "source":[
    "**RELATIONSHIP BETWEEN PCLASS AND OTHER FEATURES**\n",
    "\n",
    "In the following few code cells, I am looking for any relationship between the socioeconomic status of the passenger and other features, such as age, gender, and number of family members on board."
   ],
   "attachments":{
    
   },
   "metadata":{
    "datalore":{
     "node_id":"NuUYtUjTvDKPpmR4BhyoHB",
     "type":"MD",
     "hide_input_from_viewers":false,
     "hide_output_from_viewers":false
    }
   }
  },
  {
   "cell_type":"code",
   "source":[
    "plot = sns.FacetGrid(train, col='Pclass')\n",
    "plot.map(plt.hist, 'Age', bins=20)"
   ],
   "execution_count":48,
   "outputs":[
    {
     "data":{
      "text\/plain":[
       "<seaborn.axisgrid.FacetGrid at 0x7f139820e9a0>"
      ]
     },
     "metadata":{
      
     },
     "output_type":"display_data"
    },
    {
     "data":{
      "image\/png":"[encoded data removed]"
     },
     "metadata":{
      "image\/png":{
       
      }
     },
     "output_type":"display_data"
    }
   ],
   "metadata":{
    "datalore":{
     "node_id":"z8XMP1oZq7jIxtTTYNCR8C",
     "type":"CODE",
     "hide_input_from_viewers":false,
     "hide_output_from_viewers":false
    }
   }
  },
  {
   "cell_type":"code",
   "source":[
    "plot = sns.FacetGrid(train, col='Pclass')\n",
    "plot.map(plt.hist, 'Sex', bins=20)"
   ],
   "execution_count":49,
   "outputs":[
    {
     "data":{
      "text\/plain":[
       "<seaborn.axisgrid.FacetGrid at 0x7f1397dfe550>"
      ]
     },
     "metadata":{
      
     },
     "output_type":"display_data"
    },
    {
     "data":{
      "image\/png":"[encoded data removed]"
     },
     "metadata":{
      "image\/png":{
       
      }
     },
     "output_type":"display_data"
    }
   ],
   "metadata":{
    "datalore":{
     "node_id":"PNAZFGzffczWHFQnhKpjDJ",
     "type":"CODE",
     "hide_input_from_viewers":false,
     "hide_output_from_viewers":false
    }
   }
  },
  {
   "cell_type":"code",
   "source":[
    "plot = sns.FacetGrid(train, col='Pclass')\n",
    "plot.map(plt.hist, 'Parch', bins=20)"
   ],
   "execution_count":50,
   "outputs":[
    {
     "data":{
      "text\/plain":[
       "<seaborn.axisgrid.FacetGrid at 0x7f1397df3790>"
      ]
     },
     "metadata":{
      
     },
     "output_type":"display_data"
    },
    {
     "data":{
      "image\/png":"[encoded data removed]"
     },
     "metadata":{
      "image\/png":{
       
      }
     },
     "output_type":"display_data"
    }
   ],
   "metadata":{
    "datalore":{
     "node_id":"5Rsk1ck0eXn1TnhalMDeMl",
     "type":"CODE",
     "hide_input_from_viewers":false,
     "hide_output_from_viewers":false
    }
   }
  },
  {
   "cell_type":"code",
   "source":[
    "plot = sns.FacetGrid(train, col='Pclass')\n",
    "plot.map(plt.hist, 'SibSp', bins=20)"
   ],
   "execution_count":51,
   "outputs":[
    {
     "data":{
      "text\/plain":[
       "<seaborn.axisgrid.FacetGrid at 0x7f1397cf08e0>"
      ]
     },
     "metadata":{
      
     },
     "output_type":"display_data"
    },
    {
     "data":{
      "image\/png":"[encoded data removed]"
     },
     "metadata":{
      "image\/png":{
       
      }
     },
     "output_type":"display_data"
    }
   ],
   "metadata":{
    "datalore":{
     "node_id":"wGFQ9MgMmrDMPo1u9tHR8V",
     "type":"CODE",
     "hide_input_from_viewers":false,
     "hide_output_from_viewers":false
    }
   }
  },
  {
   "cell_type":"markdown",
   "source":[
    "The common relationship between all the above plots is that, there is not much difference in relation between the Pclass=1 and Pclass=2 graphs for the corresponding feature, however a significant difference is observed in Pclass=3.\n",
    "\n",
    "In the age correlation plots, I can see that among those passengers with ticket class 3, most are between 20-40 years old.\n",
    "\n",
    "In the gender correlation plots, approximately twice the female Pclass 3 passengers are male.\n",
    "\n",
    "Very few of the Pclass 3 passengers are travelling with their family members, and among Pclass 2 and 1, almost no passenger is travelling with their family members."
   ],
   "attachments":{
    
   },
   "metadata":{
    "datalore":{
     "node_id":"8H28Nl8rRccak1UFA9IwSL",
     "type":"MD",
     "hide_input_from_viewers":false,
     "hide_output_from_viewers":false
    }
   }
  },
  {
   "cell_type":"markdown",
   "source":[
    "**RELATIONSHIP BETWEEN DISTRIBUTION OF SURVIVAL VICTIMS AD OTHER FEATURES**\n",
    "\n",
    "In the following few code cells, I am looking for any relationship between the distribution of survival victims and other features, such as age, gender, and socioeconomic class."
   ],
   "attachments":{
    
   },
   "metadata":{
    "datalore":{
     "node_id":"iRJn8gqUJehsWYfXq4qvgw",
     "type":"MD",
     "hide_input_from_viewers":false,
     "hide_output_from_viewers":false
    }
   }
  },
  {
   "cell_type":"code",
   "source":[
    "plot = sns.FacetGrid(train, col='Survived')\n",
    "plot.map(plt.hist, 'Age', bins=20)"
   ],
   "execution_count":52,
   "outputs":[
    {
     "data":{
      "text\/plain":[
       "<seaborn.axisgrid.FacetGrid at 0x7f1398057400>"
      ]
     },
     "metadata":{
      
     },
     "output_type":"display_data"
    },
    {
     "data":{
      "image\/png":"[encoded data removed]"
     },
     "metadata":{
      "image\/png":{
       
      }
     },
     "output_type":"display_data"
    }
   ],
   "metadata":{
    "datalore":{
     "node_id":"I3Swcxal2hmBdSFIzmPU1F",
     "type":"CODE",
     "hide_input_from_viewers":false,
     "hide_output_from_viewers":false
    }
   }
  },
  {
   "cell_type":"markdown",
   "source":[
    "From the above graphs, I come to the conclusion that:\n",
    "- Among passengers between 15-30, a lot didn't survive. \n",
    "- The oldest person survived (age=80)\n",
    "- Infants and toddlers, age range 1-5, have a high survival rate.\n",
    "  \n",
    "Therefore, while rescuing and evacuating, the elderly and infants ones were given priority over the young adults."
   ],
   "attachments":{
    
   },
   "metadata":{
    "datalore":{
     "node_id":"twTq1kazIxzVJLhb2TiRo6",
     "type":"MD",
     "hide_input_from_viewers":false,
     "hide_output_from_viewers":false
    }
   }
  },
  {
   "cell_type":"code",
   "source":[
    "plot = sns.FacetGrid(train, col='Survived')\n",
    "plot.map(plt.hist, 'Sex', bins=20)"
   ],
   "execution_count":53,
   "outputs":[
    {
     "data":{
      "text\/plain":[
       "<seaborn.axisgrid.FacetGrid at 0x7f1397b14bb0>"
      ]
     },
     "metadata":{
      
     },
     "output_type":"display_data"
    },
    {
     "data":{
      "image\/png":"[encoded data removed]"
     },
     "metadata":{
      "image\/png":{
       
      }
     },
     "output_type":"display_data"
    }
   ],
   "metadata":{
    "datalore":{
     "node_id":"Zn7rWWQpsRpxElzZcai8CW",
     "type":"CODE",
     "hide_input_from_viewers":false,
     "hide_output_from_viewers":false
    }
   }
  },
  {
   "cell_type":"markdown",
   "source":[
    "From the above graphs, I come to the conclusion that:\n",
    "\n",
    "- Most males aboard did not survive.\n",
    "- Among the number of passengers who did survive, more than two-thirds were female.\n",
    "\n",
    "Therefore, while rescuing and evacuating, female passengers were given priority over males."
   ],
   "attachments":{
    
   },
   "metadata":{
    "datalore":{
     "node_id":"w3mOBJr8GrXEPazI7f9dTn",
     "type":"MD",
     "hide_input_from_viewers":false,
     "hide_output_from_viewers":false
    }
   }
  },
  {
   "cell_type":"code",
   "source":[
    "plot = sns.FacetGrid(train, col='Survived')\n",
    "plot.map(plt.hist, 'Pclass', bins=20)"
   ],
   "execution_count":54,
   "outputs":[
    {
     "data":{
      "text\/plain":[
       "<seaborn.axisgrid.FacetGrid at 0x7f1397a8dc70>"
      ]
     },
     "metadata":{
      
     },
     "output_type":"display_data"
    },
    {
     "data":{
      "image\/png":"[encoded data removed]"
     },
     "metadata":{
      "image\/png":{
       
      }
     },
     "output_type":"display_data"
    }
   ],
   "metadata":{
    "datalore":{
     "node_id":"jAlJvANgTWQzSRvLqSdOf8",
     "type":"CODE",
     "hide_input_from_viewers":false,
     "hide_output_from_viewers":false
    }
   }
  },
  {
   "cell_type":"markdown",
   "source":[
    "From the above graphs, I come to the conclusion that:\n",
    "\n",
    "- More than 75% of passengers with Pclass 3 tickets did not survive.\n",
    "- Among the number of passengers with Pclass 1 and Pclass 2 tickets, about half managed to survive.\n",
    "\n",
    "Therefore, while rescuing and evacuating those with a higher socioeconomic status, that is, Pclass 1 and Pclass 2 tickets were given priority."
   ],
   "attachments":{
    
   },
   "metadata":{
    "datalore":{
     "node_id":"89YgPp09Se2w65YTsxDNml",
     "type":"MD",
     "hide_input_from_viewers":false,
     "hide_output_from_viewers":false
    }
   }
  },
  {
   "cell_type":"markdown",
   "source":[
    "**CORRELATION ANALYSIS ON THE MOST IMPORTANT FEATURES**\n",
    "\n",
    "Among the features in the train dataset, the least important ones seem to be PassengerID, Name, and Cabin. \n",
    "\n",
    "I have performed a Pearson Correlation analysis on the features besides the above mentioned features of the train dataset and plot the corresponding heat map below."
   ],
   "attachments":{
    
   },
   "metadata":{
    "datalore":{
     "node_id":"POYN5vHizhIyyR2Riyi97e",
     "type":"MD",
     "hide_input_from_viewers":false,
     "hide_output_from_viewers":false
    }
   }
  },
  {
   "cell_type":"code",
   "source":[
    "temp = train.drop(['PassengerId', 'Name', 'Cabin'], axis=1)\n",
    "correlation = temp.corr(method='pearson')\n",
    "plt.figure(figsize=(15, 10))\n",
    "plt.title('Pearson Correlation between the impotant features of the train dataset')\n",
    "sns.heatmap(correlation, annot=True)\n",
    "plt.show()"
   ],
   "execution_count":55,
   "outputs":[
    {
     "data":{
      "image\/png":"[encoded data removed]"
     },
     "metadata":{
      "image\/png":{
       
      }
     },
     "output_type":"display_data"
    }
   ],
   "metadata":{
    "datalore":{
     "node_id":"IL0aeQL8xXh2qla0WzMyhx",
     "type":"CODE",
     "hide_input_from_viewers":false,
     "hide_output_from_viewers":false
    }
   }
  },
  {
   "cell_type":"markdown",
   "source":[
    "From the above heat map, I come to the conclusion that:\n",
    "\n",
    "- The highest correlation is between Parch and SibSp meaning that almost half of the passengers travelling with their parents and children were also travelling with their siblings and spouses.\n",
    "- The survival of a passenger had some correlation to the ticket fare that passenger paid.\n",
    "- The ticket fare is correlated to the number of family members travelling with the passenger."
   ],
   "attachments":{
    
   },
   "metadata":{
    "datalore":{
     "node_id":"WlqEnF3XhtNbKP1fwCfEs0",
     "type":"MD",
     "hide_input_from_viewers":false,
     "hide_output_from_viewers":false
    }
   }
  },
  {
   "cell_type":"markdown",
   "source":[
    "**EXTRACT INFORMATION FROM THE NON-NUMERICAL FEATURES**\n",
    "\n",
    "The non-numerical features in the train dataset include Name, Sex, Ticket, Cabin, and Embarked."
   ],
   "attachments":{
    
   },
   "metadata":{
    "datalore":{
     "node_id":"zbo1STBKuVz6S3urtBk9TG",
     "type":"MD",
     "hide_input_from_viewers":false,
     "hide_output_from_viewers":false
    }
   }
  },
  {
   "cell_type":"code",
   "source":[
    "plot = sns.FacetGrid(train, row='Embarked', height=3, aspect=1.6)\n",
    "plot.map(sns.pointplot, 'Pclass', 'Survived', 'Sex',\n",
    "         palette='spring')\n",
    "plot.add_legend()"
   ],
   "execution_count":56,
   "outputs":[
    {
     "name":"stderr",
     "text":[
      "\/opt\/python\/envs\/default\/lib\/python3.8\/site-packages\/seaborn\/axisgrid.py:670: UserWarning: Using the pointplot function without specifying `order` is likely to produce an incorrect plot.\n",
      "  warnings.warn(warning)\n",
      "\/opt\/python\/envs\/default\/lib\/python3.8\/site-packages\/seaborn\/axisgrid.py:675: UserWarning: Using the pointplot function without specifying `hue_order` is likely to produce an incorrect plot.\n",
      "  warnings.warn(warning)\n"
     ],
     "output_type":"stream"
    },
    {
     "data":{
      "text\/plain":[
       "<seaborn.axisgrid.FacetGrid at 0x7f139791c130>"
      ]
     },
     "metadata":{
      
     },
     "output_type":"display_data"
    },
    {
     "data":{
      "image\/png":"[encoded data removed]"
     },
     "metadata":{
      "image\/png":{
       
      }
     },
     "output_type":"display_data"
    }
   ],
   "metadata":{
    "datalore":{
     "node_id":"1Po1Z3VS3XgLReKwSNFqSq",
     "type":"CODE",
     "hide_input_from_viewers":false,
     "hide_output_from_viewers":false
    }
   }
  },
  {
   "cell_type":"markdown",
   "source":[
    "From the above correlations, I come to the conclusion that:\n",
    "\n",
    "- Female passengers had a much higher survival rate compared to male passengers.\n",
    "- Exception: In the case where the boat embarked at C(Cherbourg), the survival rate of male passengers was higher than that of female. This is probably because of a correlation between Pclass, Embarked, and corresponding survival chance. It does not seem to be a direct correlation between Embarked and Survival chance.\n",
    "- In Pclass 3, males had a better survival chance when compared to Pclass 2 for the C(Cherbourg) and Q(Queensland) port of embarkation.\n",
    "- In Pclass 3, ports of embarkation have varying survival chances."
   ],
   "attachments":{
    
   },
   "metadata":{
    "datalore":{
     "node_id":"g1CZoVnFjYgE57IfENFngc",
     "type":"MD",
     "hide_input_from_viewers":false,
     "hide_output_from_viewers":false
    }
   }
  },
  {
   "cell_type":"markdown",
   "source":[
    "**WRANGLE DATA**\n",
    "\n",
    "In this section, I aim to correct the dataset by dropping some features and thereby dealing with fewer data points in the dataset. This eases up analysis. It might be better to start with columns that contain irrelevant or missing data.\n",
    "\n",
    "Here I am dropping the Ticket and Cabin columns. It is better to perform operations on both the train and test set to remain consistent."
   ],
   "attachments":{
    
   },
   "metadata":{
    "datalore":{
     "node_id":"rtCRvMDEjqnRzJK7CsLMRR",
     "type":"MD",
     "hide_input_from_viewers":false,
     "hide_output_from_viewers":false
    }
   }
  },
  {
   "cell_type":"code",
   "source":[
    "train = pd.read_csv('train.csv')\n",
    "test = pd.read_csv('test.csv')\n",
    "# noinspection PyRedeclaration\n",
    "combine = [train, test]\n",
    "\n",
    "print(\"Before\", train.shape, test.shape, combine[0].shape, combine[1].shape)\n",
    "\n",
    "train = train.drop([\"Ticket\", \"Cabin\"], axis=1)\n",
    "test = test.drop([\"Ticket\", \"Cabin\"], axis=1)\n",
    "combine = [train, test]\n",
    "\n",
    "\"After\", train.shape, test.shape, combine[0].shape, combine[1].shape"
   ],
   "execution_count":57,
   "outputs":[
    {
     "name":"stdout",
     "text":[
      "Before (891, 12) (418, 11) (891, 12) (418, 11)\n"
     ],
     "output_type":"stream"
    },
    {
     "data":{
      "text\/plain":[
       "('After', (891, 10), (418, 9), (891, 10), (418, 9))"
      ]
     },
     "metadata":{
      
     },
     "output_type":"display_data"
    }
   ],
   "metadata":{
    "datalore":{
     "node_id":"yvNNe8CYwwSlslOetyJ2ge",
     "type":"CODE",
     "hide_input_from_viewers":false,
     "hide_output_from_viewers":false
    }
   }
  },
  {
   "cell_type":"markdown",
   "source":[
    "**CREATING A TITLE FEATURE TO CATEGORISE THE DATA FURTHER**\n",
    "\n",
    "I have extracted the title of the passenger using regex expressions. The pattern (\\w+\\.) will match the first word in the Name column that ends with a dot\n"
   ],
   "attachments":{
    
   },
   "metadata":{
    "datalore":{
     "node_id":"ibTs13hPIvCNloJixzjrG7",
     "type":"MD",
     "hide_input_from_viewers":false,
     "hide_output_from_viewers":false
    }
   }
  },
  {
   "cell_type":"code",
   "source":[
    "for dataset in combine:\n",
    "    dataset['Title'] = dataset.Name.str.extract(' ([A-Za-z]+)\\.', expand=False)\n",
    "\n",
    "pd.crosstab(train['Title'], train['Sex'])"
   ],
   "execution_count":58,
   "outputs":[
    {
     "data":{
      "text\/html":[
       "<div>\n",
       "<style scoped>\n",
       "    .dataframe tbody tr th:only-of-type {\n",
       "        vertical-align: middle;\n",
       "    }\n",
       "\n",
       "    .dataframe tbody tr th {\n",
       "        vertical-align: top;\n",
       "    }\n",
       "\n",
       "    .dataframe thead th {\n",
       "        text-align: right;\n",
       "    }\n",
       "<\/style>\n",
       "<table border=\"1\" class=\"dataframe\">\n",
       "  <thead>\n",
       "    <tr style=\"text-align: right;\">\n",
       "      <th>Sex<\/th>\n",
       "      <th>female<\/th>\n",
       "      <th>male<\/th>\n",
       "    <\/tr>\n",
       "    <tr>\n",
       "      <th>Title<\/th>\n",
       "      <th><\/th>\n",
       "      <th><\/th>\n",
       "    <\/tr>\n",
       "  <\/thead>\n",
       "  <tbody>\n",
       "    <tr>\n",
       "      <th>Capt<\/th>\n",
       "      <td>0<\/td>\n",
       "      <td>1<\/td>\n",
       "    <\/tr>\n",
       "    <tr>\n",
       "      <th>Col<\/th>\n",
       "      <td>0<\/td>\n",
       "      <td>2<\/td>\n",
       "    <\/tr>\n",
       "    <tr>\n",
       "      <th>Countess<\/th>\n",
       "      <td>1<\/td>\n",
       "      <td>0<\/td>\n",
       "    <\/tr>\n",
       "    <tr>\n",
       "      <th>Don<\/th>\n",
       "      <td>0<\/td>\n",
       "      <td>1<\/td>\n",
       "    <\/tr>\n",
       "    <tr>\n",
       "      <th>Dr<\/th>\n",
       "      <td>1<\/td>\n",
       "      <td>6<\/td>\n",
       "    <\/tr>\n",
       "    <tr>\n",
       "      <th>Jonkheer<\/th>\n",
       "      <td>0<\/td>\n",
       "      <td>1<\/td>\n",
       "    <\/tr>\n",
       "    <tr>\n",
       "      <th>Lady<\/th>\n",
       "      <td>1<\/td>\n",
       "      <td>0<\/td>\n",
       "    <\/tr>\n",
       "    <tr>\n",
       "      <th>Major<\/th>\n",
       "      <td>0<\/td>\n",
       "      <td>2<\/td>\n",
       "    <\/tr>\n",
       "    <tr>\n",
       "      <th>Master<\/th>\n",
       "      <td>0<\/td>\n",
       "      <td>40<\/td>\n",
       "    <\/tr>\n",
       "    <tr>\n",
       "      <th>Miss<\/th>\n",
       "      <td>182<\/td>\n",
       "      <td>0<\/td>\n",
       "    <\/tr>\n",
       "    <tr>\n",
       "      <th>Mlle<\/th>\n",
       "      <td>2<\/td>\n",
       "      <td>0<\/td>\n",
       "    <\/tr>\n",
       "    <tr>\n",
       "      <th>Mme<\/th>\n",
       "      <td>1<\/td>\n",
       "      <td>0<\/td>\n",
       "    <\/tr>\n",
       "    <tr>\n",
       "      <th>Mr<\/th>\n",
       "      <td>0<\/td>\n",
       "      <td>517<\/td>\n",
       "    <\/tr>\n",
       "    <tr>\n",
       "      <th>Mrs<\/th>\n",
       "      <td>125<\/td>\n",
       "      <td>0<\/td>\n",
       "    <\/tr>\n",
       "    <tr>\n",
       "      <th>Ms<\/th>\n",
       "      <td>1<\/td>\n",
       "      <td>0<\/td>\n",
       "    <\/tr>\n",
       "    <tr>\n",
       "      <th>Rev<\/th>\n",
       "      <td>0<\/td>\n",
       "      <td>6<\/td>\n",
       "    <\/tr>\n",
       "    <tr>\n",
       "      <th>Sir<\/th>\n",
       "      <td>0<\/td>\n",
       "      <td>1<\/td>\n",
       "    <\/tr>\n",
       "  <\/tbody>\n",
       "<\/table>\n",
       "<\/div>"
      ]
     },
     "metadata":{
      
     },
     "output_type":"display_data"
    }
   ],
   "metadata":{
    "datalore":{
     "node_id":"m3e5pmafmYGwweMPy36z5M",
     "type":"CODE",
     "hide_input_from_viewers":false,
     "hide_output_from_viewers":false
    }
   }
  },
  {
   "cell_type":"markdown",
   "source":[
    "We could further classify the titles listed above as rare or common. We could also convert the categorical features into ordinal."
   ],
   "attachments":{
    
   },
   "metadata":{
    "datalore":{
     "node_id":"XFMzdrj3ukD02xabwVDrnK",
     "type":"MD",
     "hide_input_from_viewers":false,
     "hide_output_from_viewers":false
    }
   }
  },
  {
   "cell_type":"code",
   "source":[
    "for dataset in combine:\n",
    "    dataset[\"Title\"] = dataset[\"Title\"].replace(\n",
    "    [\"Lady\", \"Countess\", \"Capt\", \"Col\", \"Don\", \"Dr\", \n",
    "    \"Major\", \"Rev\", \"Sir\", \"Jonkheer\", \"Dona\"], \"Rare\")\n",
    "\n",
    "    dataset[\"Title\"] = dataset[\"Title\"].replace(\"Mlle\", \"Miss\")\n",
    "    dataset[\"Title\"] = dataset[\"Title\"].replace(\"Ms\", \"Miss\")\n",
    "    dataset[\"Title\"] = dataset[\"Title\"].replace(\"Mme\", \"Mrs\")\n",
    "    \n",
    "train[[\"Title\", \"Survived\"]].groupby([\"Title\"], as_index=False).mean()"
   ],
   "execution_count":59,
   "outputs":[
    {
     "data":{
      "text\/html":[
       "<div>\n",
       "<style scoped>\n",
       "    .dataframe tbody tr th:only-of-type {\n",
       "        vertical-align: middle;\n",
       "    }\n",
       "\n",
       "    .dataframe tbody tr th {\n",
       "        vertical-align: top;\n",
       "    }\n",
       "\n",
       "    .dataframe thead th {\n",
       "        text-align: right;\n",
       "    }\n",
       "<\/style>\n",
       "<table border=\"1\" class=\"dataframe\">\n",
       "  <thead>\n",
       "    <tr style=\"text-align: right;\">\n",
       "      <th><\/th>\n",
       "      <th>Title<\/th>\n",
       "      <th>Survived<\/th>\n",
       "    <\/tr>\n",
       "  <\/thead>\n",
       "  <tbody>\n",
       "    <tr>\n",
       "      <th>0<\/th>\n",
       "      <td>Master<\/td>\n",
       "      <td>0.575000<\/td>\n",
       "    <\/tr>\n",
       "    <tr>\n",
       "      <th>1<\/th>\n",
       "      <td>Miss<\/td>\n",
       "      <td>0.702703<\/td>\n",
       "    <\/tr>\n",
       "    <tr>\n",
       "      <th>2<\/th>\n",
       "      <td>Mr<\/td>\n",
       "      <td>0.156673<\/td>\n",
       "    <\/tr>\n",
       "    <tr>\n",
       "      <th>3<\/th>\n",
       "      <td>Mrs<\/td>\n",
       "      <td>0.793651<\/td>\n",
       "    <\/tr>\n",
       "    <tr>\n",
       "      <th>4<\/th>\n",
       "      <td>Rare<\/td>\n",
       "      <td>0.347826<\/td>\n",
       "    <\/tr>\n",
       "  <\/tbody>\n",
       "<\/table>\n",
       "<\/div>"
      ]
     },
     "metadata":{
      
     },
     "output_type":"display_data"
    }
   ],
   "metadata":{
    "datalore":{
     "node_id":"fJinoRcVXeDTAcBFe98dRn",
     "type":"CODE",
     "hide_input_from_viewers":false,
     "hide_output_from_viewers":false
    }
   }
  },
  {
   "cell_type":"code",
   "source":[
    "title_map = {\"Mr\": 1, \"Miss\": 2, \"Mrs\": 3, \n",
    "                 \"Master\": 4, \"Rare\": 5}\n",
    "for dataset in combine:\n",
    "    dataset[\"Title\"] = dataset[\"Title\"].map(title_map)\n",
    "    dataset[\"Title\"] = dataset[\"Title\"].fillna(0)\n",
    "\n",
    "train.head(3)"
   ],
   "execution_count":60,
   "outputs":[
    {
     "data":{
      "text\/html":[
       "<div>\n",
       "<style scoped>\n",
       "    .dataframe tbody tr th:only-of-type {\n",
       "        vertical-align: middle;\n",
       "    }\n",
       "\n",
       "    .dataframe tbody tr th {\n",
       "        vertical-align: top;\n",
       "    }\n",
       "\n",
       "    .dataframe thead th {\n",
       "        text-align: right;\n",
       "    }\n",
       "<\/style>\n",
       "<table border=\"1\" class=\"dataframe\">\n",
       "  <thead>\n",
       "    <tr style=\"text-align: right;\">\n",
       "      <th><\/th>\n",
       "      <th>PassengerId<\/th>\n",
       "      <th>Survived<\/th>\n",
       "      <th>Pclass<\/th>\n",
       "      <th>Name<\/th>\n",
       "      <th>Sex<\/th>\n",
       "      <th>Age<\/th>\n",
       "      <th>SibSp<\/th>\n",
       "      <th>Parch<\/th>\n",
       "      <th>Fare<\/th>\n",
       "      <th>Embarked<\/th>\n",
       "      <th>Title<\/th>\n",
       "    <\/tr>\n",
       "  <\/thead>\n",
       "  <tbody>\n",
       "    <tr>\n",
       "      <th>0<\/th>\n",
       "      <td>1<\/td>\n",
       "      <td>0<\/td>\n",
       "      <td>3<\/td>\n",
       "      <td>Braund, Mr. Owen Harris<\/td>\n",
       "      <td>male<\/td>\n",
       "      <td>22.0<\/td>\n",
       "      <td>1<\/td>\n",
       "      <td>0<\/td>\n",
       "      <td>7.2500<\/td>\n",
       "      <td>S<\/td>\n",
       "      <td>1<\/td>\n",
       "    <\/tr>\n",
       "    <tr>\n",
       "      <th>1<\/th>\n",
       "      <td>2<\/td>\n",
       "      <td>1<\/td>\n",
       "      <td>1<\/td>\n",
       "      <td>Cumings, Mrs. John Bradley (Florence Briggs Th...<\/td>\n",
       "      <td>female<\/td>\n",
       "      <td>38.0<\/td>\n",
       "      <td>1<\/td>\n",
       "      <td>0<\/td>\n",
       "      <td>71.2833<\/td>\n",
       "      <td>C<\/td>\n",
       "      <td>3<\/td>\n",
       "    <\/tr>\n",
       "    <tr>\n",
       "      <th>2<\/th>\n",
       "      <td>3<\/td>\n",
       "      <td>1<\/td>\n",
       "      <td>3<\/td>\n",
       "      <td>Heikkinen, Miss. Laina<\/td>\n",
       "      <td>female<\/td>\n",
       "      <td>26.0<\/td>\n",
       "      <td>0<\/td>\n",
       "      <td>0<\/td>\n",
       "      <td>7.9250<\/td>\n",
       "      <td>S<\/td>\n",
       "      <td>2<\/td>\n",
       "    <\/tr>\n",
       "  <\/tbody>\n",
       "<\/table>\n",
       "<\/div>"
      ]
     },
     "metadata":{
      
     },
     "output_type":"display_data"
    }
   ],
   "metadata":{
    "datalore":{
     "node_id":"BxUdNF9ecNTnwAXjXNUze9",
     "type":"CODE",
     "hide_input_from_viewers":false,
     "hide_output_from_viewers":false
    }
   }
  },
  {
   "cell_type":"markdown",
   "source":[
    "Now that we have a Title feature that is numerical, we can get rid of the Name feature. I am also dropping the PassengerID column since it is irrelevant in our analysis."
   ],
   "attachments":{
    
   },
   "metadata":{
    "datalore":{
     "node_id":"AtVhVfwOMFpxYFZHy9g2Tz",
     "type":"MD",
     "hide_input_from_viewers":false,
     "hide_output_from_viewers":false
    }
   }
  },
  {
   "cell_type":"code",
   "source":[
    "train = train.drop(['Name', 'PassengerId'], axis=1)\n",
    "test = test.drop(['Name'], axis=1)\n",
    "combine = [train, test]\n",
    "train.shape, test.shape"
   ],
   "execution_count":61,
   "outputs":[
    {
     "data":{
      "text\/plain":[
       "((891, 9), (418, 9))"
      ]
     },
     "metadata":{
      
     },
     "output_type":"display_data"
    }
   ],
   "metadata":{
    "datalore":{
     "node_id":"fDrWPXLPIsbgr5Ho2vDX8f",
     "type":"CODE",
     "hide_input_from_viewers":false,
     "hide_output_from_viewers":false
    }
   }
  },
  {
   "cell_type":"markdown",
   "source":[
    "**CONVERT CATEGORICAL TO NUMERICAL**\n",
    "\n",
    "Numerical features are easier to analyse. Hence, in this section I will be converting the Sex feature to numerical, where female = 1 and male = 0."
   ],
   "attachments":{
    
   },
   "metadata":{
    "datalore":{
     "node_id":"x9cQhE9vdNKf72mgXkY0xt",
     "type":"MD",
     "hide_input_from_viewers":false,
     "hide_output_from_viewers":false
    }
   }
  },
  {
   "cell_type":"code",
   "source":[
    "for dataset in combine:\n",
    "    dataset[\"Sex\"] = dataset[\"Sex\"].map( {\"female\": 1, \n",
    "    \"male\": 0} ).astype(int)\n",
    "\n",
    "train.head(3)"
   ],
   "execution_count":62,
   "outputs":[
    {
     "data":{
      "text\/html":[
       "<div>\n",
       "<style scoped>\n",
       "    .dataframe tbody tr th:only-of-type {\n",
       "        vertical-align: middle;\n",
       "    }\n",
       "\n",
       "    .dataframe tbody tr th {\n",
       "        vertical-align: top;\n",
       "    }\n",
       "\n",
       "    .dataframe thead th {\n",
       "        text-align: right;\n",
       "    }\n",
       "<\/style>\n",
       "<table border=\"1\" class=\"dataframe\">\n",
       "  <thead>\n",
       "    <tr style=\"text-align: right;\">\n",
       "      <th><\/th>\n",
       "      <th>Survived<\/th>\n",
       "      <th>Pclass<\/th>\n",
       "      <th>Sex<\/th>\n",
       "      <th>Age<\/th>\n",
       "      <th>SibSp<\/th>\n",
       "      <th>Parch<\/th>\n",
       "      <th>Fare<\/th>\n",
       "      <th>Embarked<\/th>\n",
       "      <th>Title<\/th>\n",
       "    <\/tr>\n",
       "  <\/thead>\n",
       "  <tbody>\n",
       "    <tr>\n",
       "      <th>0<\/th>\n",
       "      <td>0<\/td>\n",
       "      <td>3<\/td>\n",
       "      <td>0<\/td>\n",
       "      <td>22.0<\/td>\n",
       "      <td>1<\/td>\n",
       "      <td>0<\/td>\n",
       "      <td>7.2500<\/td>\n",
       "      <td>S<\/td>\n",
       "      <td>1<\/td>\n",
       "    <\/tr>\n",
       "    <tr>\n",
       "      <th>1<\/th>\n",
       "      <td>1<\/td>\n",
       "      <td>1<\/td>\n",
       "      <td>1<\/td>\n",
       "      <td>38.0<\/td>\n",
       "      <td>1<\/td>\n",
       "      <td>0<\/td>\n",
       "      <td>71.2833<\/td>\n",
       "      <td>C<\/td>\n",
       "      <td>3<\/td>\n",
       "    <\/tr>\n",
       "    <tr>\n",
       "      <th>2<\/th>\n",
       "      <td>1<\/td>\n",
       "      <td>3<\/td>\n",
       "      <td>1<\/td>\n",
       "      <td>26.0<\/td>\n",
       "      <td>0<\/td>\n",
       "      <td>0<\/td>\n",
       "      <td>7.9250<\/td>\n",
       "      <td>S<\/td>\n",
       "      <td>2<\/td>\n",
       "    <\/tr>\n",
       "  <\/tbody>\n",
       "<\/table>\n",
       "<\/div>"
      ]
     },
     "metadata":{
      
     },
     "output_type":"display_data"
    }
   ],
   "metadata":{
    "datalore":{
     "node_id":"z16t1EPgOdSkC6nAzt5Ez4",
     "type":"CODE",
     "hide_input_from_viewers":false,
     "hide_output_from_viewers":false
    }
   }
  },
  {
   "cell_type":"markdown",
   "source":[
    "**CREATING AGE GROUP FEATURE**\n",
    "\n",
    "Here I am classifying the different passengers into certain age groups, similar to the title feature created above.\n",
    "\n",
    "I have first rounded off the ages to avoid confusion with decimals and have then moved forward to making the age groups ordinal."
   ],
   "attachments":{
    
   },
   "metadata":{
    "datalore":{
     "node_id":"lMJ6Li82WJDM7IhC05L6Tq",
     "type":"MD",
     "hide_input_from_viewers":false,
     "hide_output_from_viewers":false
    }
   }
  },
  {
   "cell_type":"code",
   "source":[
    "guess_ages = np.zeros((2,3))\n",
    "\n",
    "for dataset in combine:\n",
    "    for i in range(0, 2):\n",
    "        for j in range(0, 3):\n",
    "            guess_df = dataset[(dataset['Sex'] == i) & \\\n",
    "                                  (dataset['Pclass'] == j+1)]['Age'].dropna()\n",
    "\n",
    "            # age_mean = guess_df.mean()\n",
    "            # age_std = guess_df.std()\n",
    "            # age_guess = rnd.uniform(age_mean - age_std, age_mean + age_std)\n",
    "\n",
    "            age_guess = guess_df.median()\n",
    "\n",
    "            # Convert random age float to nearest .5 age\n",
    "            guess_ages[i,j] = int( age_guess\/0.5 + 0.5 ) * 0.5\n",
    "\n",
    "    for i in range(0, 2):\n",
    "        for j in range(0, 3):\n",
    "            dataset.loc[ (dataset.Age.isnull()) & (dataset.Sex == i) & (dataset.Pclass == j+1),\\\n",
    "                    'Age'] = guess_ages[i,j]\n",
    "\n",
    "    dataset['Age'] = dataset['Age'].astype(int)\n",
    "\n",
    "train.head(3)"
   ],
   "execution_count":63,
   "outputs":[
    {
     "data":{
      "text\/html":[
       "<div>\n",
       "<style scoped>\n",
       "    .dataframe tbody tr th:only-of-type {\n",
       "        vertical-align: middle;\n",
       "    }\n",
       "\n",
       "    .dataframe tbody tr th {\n",
       "        vertical-align: top;\n",
       "    }\n",
       "\n",
       "    .dataframe thead th {\n",
       "        text-align: right;\n",
       "    }\n",
       "<\/style>\n",
       "<table border=\"1\" class=\"dataframe\">\n",
       "  <thead>\n",
       "    <tr style=\"text-align: right;\">\n",
       "      <th><\/th>\n",
       "      <th>Survived<\/th>\n",
       "      <th>Pclass<\/th>\n",
       "      <th>Sex<\/th>\n",
       "      <th>Age<\/th>\n",
       "      <th>SibSp<\/th>\n",
       "      <th>Parch<\/th>\n",
       "      <th>Fare<\/th>\n",
       "      <th>Embarked<\/th>\n",
       "      <th>Title<\/th>\n",
       "    <\/tr>\n",
       "  <\/thead>\n",
       "  <tbody>\n",
       "    <tr>\n",
       "      <th>0<\/th>\n",
       "      <td>0<\/td>\n",
       "      <td>3<\/td>\n",
       "      <td>0<\/td>\n",
       "      <td>22<\/td>\n",
       "      <td>1<\/td>\n",
       "      <td>0<\/td>\n",
       "      <td>7.2500<\/td>\n",
       "      <td>S<\/td>\n",
       "      <td>1<\/td>\n",
       "    <\/tr>\n",
       "    <tr>\n",
       "      <th>1<\/th>\n",
       "      <td>1<\/td>\n",
       "      <td>1<\/td>\n",
       "      <td>1<\/td>\n",
       "      <td>38<\/td>\n",
       "      <td>1<\/td>\n",
       "      <td>0<\/td>\n",
       "      <td>71.2833<\/td>\n",
       "      <td>C<\/td>\n",
       "      <td>3<\/td>\n",
       "    <\/tr>\n",
       "    <tr>\n",
       "      <th>2<\/th>\n",
       "      <td>1<\/td>\n",
       "      <td>3<\/td>\n",
       "      <td>1<\/td>\n",
       "      <td>26<\/td>\n",
       "      <td>0<\/td>\n",
       "      <td>0<\/td>\n",
       "      <td>7.9250<\/td>\n",
       "      <td>S<\/td>\n",
       "      <td>2<\/td>\n",
       "    <\/tr>\n",
       "  <\/tbody>\n",
       "<\/table>\n",
       "<\/div>"
      ]
     },
     "metadata":{
      
     },
     "output_type":"display_data"
    }
   ],
   "metadata":{
    "datalore":{
     "node_id":"04CudVOipFoePrEbfCcA5r",
     "type":"CODE",
     "hide_input_from_viewers":false,
     "hide_output_from_viewers":false
    }
   }
  },
  {
   "cell_type":"code",
   "source":[
    "train[\"AgeGroup\"] = pd.cut(train[\"Age\"], 5)\n",
    "train[[\"AgeGroup\", \"Survived\"]].groupby([\"AgeGroup\"], as_index=False).mean().sort_values(by=\"AgeGroup\", ascending=True)"
   ],
   "execution_count":64,
   "outputs":[
    {
     "data":{
      "text\/html":[
       "<div>\n",
       "<style scoped>\n",
       "    .dataframe tbody tr th:only-of-type {\n",
       "        vertical-align: middle;\n",
       "    }\n",
       "\n",
       "    .dataframe tbody tr th {\n",
       "        vertical-align: top;\n",
       "    }\n",
       "\n",
       "    .dataframe thead th {\n",
       "        text-align: right;\n",
       "    }\n",
       "<\/style>\n",
       "<table border=\"1\" class=\"dataframe\">\n",
       "  <thead>\n",
       "    <tr style=\"text-align: right;\">\n",
       "      <th><\/th>\n",
       "      <th>AgeGroup<\/th>\n",
       "      <th>Survived<\/th>\n",
       "    <\/tr>\n",
       "  <\/thead>\n",
       "  <tbody>\n",
       "    <tr>\n",
       "      <th>0<\/th>\n",
       "      <td>(-0.08, 16.0]<\/td>\n",
       "      <td>0.550000<\/td>\n",
       "    <\/tr>\n",
       "    <tr>\n",
       "      <th>1<\/th>\n",
       "      <td>(16.0, 32.0]<\/td>\n",
       "      <td>0.337374<\/td>\n",
       "    <\/tr>\n",
       "    <tr>\n",
       "      <th>2<\/th>\n",
       "      <td>(32.0, 48.0]<\/td>\n",
       "      <td>0.412037<\/td>\n",
       "    <\/tr>\n",
       "    <tr>\n",
       "      <th>3<\/th>\n",
       "      <td>(48.0, 64.0]<\/td>\n",
       "      <td>0.434783<\/td>\n",
       "    <\/tr>\n",
       "    <tr>\n",
       "      <th>4<\/th>\n",
       "      <td>(64.0, 80.0]<\/td>\n",
       "      <td>0.090909<\/td>\n",
       "    <\/tr>\n",
       "  <\/tbody>\n",
       "<\/table>\n",
       "<\/div>"
      ]
     },
     "metadata":{
      
     },
     "output_type":"display_data"
    }
   ],
   "metadata":{
    "datalore":{
     "node_id":"0iZTfBoBGDDRB3rLSGXAUE",
     "type":"CODE",
     "hide_input_from_viewers":false,
     "hide_output_from_viewers":false
    }
   }
  },
  {
   "cell_type":"code",
   "source":[
    "for dataset in combine:    \n",
    "    dataset.loc[ dataset[\"Age\"] <= 16, \"Age\"] = 0\n",
    "    dataset.loc[(dataset[\"Age\"] > 16) & (dataset[\"Age\"] <= 32), 'Age'] = 1\n",
    "    dataset.loc[(dataset[\"Age\"] > 32) & (dataset[\"Age\"] <= 48), 'Age'] = 2\n",
    "    dataset.loc[(dataset[\"Age\"] > 48) & (dataset[\"Age\"] <= 64), 'Age'] = 3\n",
    "    dataset.loc[ dataset[\"Age\"] > 64, \"Age\"] = 4\n",
    "\n",
    "train = train.drop([\"AgeGroup\"], axis=1)\n",
    "combine = [train, test]\n",
    "train.head()"
   ],
   "execution_count":65,
   "outputs":[
    {
     "data":{
      "text\/html":[
       "<div>\n",
       "<style scoped>\n",
       "    .dataframe tbody tr th:only-of-type {\n",
       "        vertical-align: middle;\n",
       "    }\n",
       "\n",
       "    .dataframe tbody tr th {\n",
       "        vertical-align: top;\n",
       "    }\n",
       "\n",
       "    .dataframe thead th {\n",
       "        text-align: right;\n",
       "    }\n",
       "<\/style>\n",
       "<table border=\"1\" class=\"dataframe\">\n",
       "  <thead>\n",
       "    <tr style=\"text-align: right;\">\n",
       "      <th><\/th>\n",
       "      <th>Survived<\/th>\n",
       "      <th>Pclass<\/th>\n",
       "      <th>Sex<\/th>\n",
       "      <th>Age<\/th>\n",
       "      <th>SibSp<\/th>\n",
       "      <th>Parch<\/th>\n",
       "      <th>Fare<\/th>\n",
       "      <th>Embarked<\/th>\n",
       "      <th>Title<\/th>\n",
       "    <\/tr>\n",
       "  <\/thead>\n",
       "  <tbody>\n",
       "    <tr>\n",
       "      <th>0<\/th>\n",
       "      <td>0<\/td>\n",
       "      <td>3<\/td>\n",
       "      <td>0<\/td>\n",
       "      <td>1<\/td>\n",
       "      <td>1<\/td>\n",
       "      <td>0<\/td>\n",
       "      <td>7.2500<\/td>\n",
       "      <td>S<\/td>\n",
       "      <td>1<\/td>\n",
       "    <\/tr>\n",
       "    <tr>\n",
       "      <th>1<\/th>\n",
       "      <td>1<\/td>\n",
       "      <td>1<\/td>\n",
       "      <td>1<\/td>\n",
       "      <td>2<\/td>\n",
       "      <td>1<\/td>\n",
       "      <td>0<\/td>\n",
       "      <td>71.2833<\/td>\n",
       "      <td>C<\/td>\n",
       "      <td>3<\/td>\n",
       "    <\/tr>\n",
       "    <tr>\n",
       "      <th>2<\/th>\n",
       "      <td>1<\/td>\n",
       "      <td>3<\/td>\n",
       "      <td>1<\/td>\n",
       "      <td>1<\/td>\n",
       "      <td>0<\/td>\n",
       "      <td>0<\/td>\n",
       "      <td>7.9250<\/td>\n",
       "      <td>S<\/td>\n",
       "      <td>2<\/td>\n",
       "    <\/tr>\n",
       "    <tr>\n",
       "      <th>3<\/th>\n",
       "      <td>1<\/td>\n",
       "      <td>1<\/td>\n",
       "      <td>1<\/td>\n",
       "      <td>2<\/td>\n",
       "      <td>1<\/td>\n",
       "      <td>0<\/td>\n",
       "      <td>53.1000<\/td>\n",
       "      <td>S<\/td>\n",
       "      <td>3<\/td>\n",
       "    <\/tr>\n",
       "    <tr>\n",
       "      <th>4<\/th>\n",
       "      <td>0<\/td>\n",
       "      <td>3<\/td>\n",
       "      <td>0<\/td>\n",
       "      <td>2<\/td>\n",
       "      <td>0<\/td>\n",
       "      <td>0<\/td>\n",
       "      <td>8.0500<\/td>\n",
       "      <td>S<\/td>\n",
       "      <td>1<\/td>\n",
       "    <\/tr>\n",
       "  <\/tbody>\n",
       "<\/table>\n",
       "<\/div>"
      ]
     },
     "metadata":{
      
     },
     "output_type":"display_data"
    }
   ],
   "metadata":{
    "datalore":{
     "node_id":"c2z41fgGLDh6peKhVMnxjo",
     "type":"CODE",
     "hide_input_from_viewers":false,
     "hide_output_from_viewers":false
    }
   }
  },
  {
   "cell_type":"markdown",
   "source":[
    "Since we are done classifying the Age groups, I have now dropeed the AgGroup feature in the dataset."
   ],
   "attachments":{
    
   },
   "metadata":{
    "datalore":{
     "node_id":"uBF3SMTNkEUonN3yIuC0nD",
     "type":"MD",
     "hide_input_from_viewers":false,
     "hide_output_from_viewers":false
    }
   }
  },
  {
   "cell_type":"markdown",
   "source":[
    "**MERGING EXISTING FEATURES**\n",
    "\n",
    "In this section, I will be merging the SibSp and the Parch features to account for a single feature Family which would show the number of family members travelling. I later dropped the Parch and SibSp features since they are no longer of any use."
   ],
   "attachments":{
    
   },
   "metadata":{
    "datalore":{
     "node_id":"yACYsW8Ztc8DkJQx2yFjeM",
     "type":"MD",
     "hide_input_from_viewers":false,
     "hide_output_from_viewers":false
    }
   }
  },
  {
   "cell_type":"code",
   "source":[
    "for dataset in combine:\n",
    "    dataset[\"Family\"] = dataset[\"SibSp\"] + dataset[\"Parch\"] + 1\n",
    "\n",
    "train[[\"Family\", \"Survived\"]].groupby([\"Family\"], as_index=False).mean().sort_values(by=\"Survived\", ascending=False)"
   ],
   "execution_count":66,
   "outputs":[
    {
     "data":{
      "text\/html":[
       "<div>\n",
       "<style scoped>\n",
       "    .dataframe tbody tr th:only-of-type {\n",
       "        vertical-align: middle;\n",
       "    }\n",
       "\n",
       "    .dataframe tbody tr th {\n",
       "        vertical-align: top;\n",
       "    }\n",
       "\n",
       "    .dataframe thead th {\n",
       "        text-align: right;\n",
       "    }\n",
       "<\/style>\n",
       "<table border=\"1\" class=\"dataframe\">\n",
       "  <thead>\n",
       "    <tr style=\"text-align: right;\">\n",
       "      <th><\/th>\n",
       "      <th>Family<\/th>\n",
       "      <th>Survived<\/th>\n",
       "    <\/tr>\n",
       "  <\/thead>\n",
       "  <tbody>\n",
       "    <tr>\n",
       "      <th>3<\/th>\n",
       "      <td>4<\/td>\n",
       "      <td>0.724138<\/td>\n",
       "    <\/tr>\n",
       "    <tr>\n",
       "      <th>2<\/th>\n",
       "      <td>3<\/td>\n",
       "      <td>0.578431<\/td>\n",
       "    <\/tr>\n",
       "    <tr>\n",
       "      <th>1<\/th>\n",
       "      <td>2<\/td>\n",
       "      <td>0.552795<\/td>\n",
       "    <\/tr>\n",
       "    <tr>\n",
       "      <th>6<\/th>\n",
       "      <td>7<\/td>\n",
       "      <td>0.333333<\/td>\n",
       "    <\/tr>\n",
       "    <tr>\n",
       "      <th>0<\/th>\n",
       "      <td>1<\/td>\n",
       "      <td>0.303538<\/td>\n",
       "    <\/tr>\n",
       "    <tr>\n",
       "      <th>4<\/th>\n",
       "      <td>5<\/td>\n",
       "      <td>0.200000<\/td>\n",
       "    <\/tr>\n",
       "    <tr>\n",
       "      <th>5<\/th>\n",
       "      <td>6<\/td>\n",
       "      <td>0.136364<\/td>\n",
       "    <\/tr>\n",
       "    <tr>\n",
       "      <th>7<\/th>\n",
       "      <td>8<\/td>\n",
       "      <td>0.000000<\/td>\n",
       "    <\/tr>\n",
       "    <tr>\n",
       "      <th>8<\/th>\n",
       "      <td>11<\/td>\n",
       "      <td>0.000000<\/td>\n",
       "    <\/tr>\n",
       "  <\/tbody>\n",
       "<\/table>\n",
       "<\/div>"
      ]
     },
     "metadata":{
      
     },
     "output_type":"display_data"
    }
   ],
   "metadata":{
    "datalore":{
     "node_id":"7basON864OzM02w9j503iZ",
     "type":"CODE",
     "hide_input_from_viewers":false,
     "hide_output_from_viewers":false
    }
   }
  },
  {
   "cell_type":"markdown",
   "source":[
    "Since we look for individual survivals, we can change the Family feature to simply indicate whether the passenger is alone or not. \n",
    "\n",
    "For this, I have created another feature called isAlone. Now we can safely drop all three columns—SibSp, Parch, and Family."
   ],
   "attachments":{
    
   },
   "metadata":{
    "datalore":{
     "node_id":"Q8OrlKy0ZCgpUgNnTAlkuz",
     "type":"MD",
     "hide_input_from_viewers":false,
     "hide_output_from_viewers":false
    }
   }
  },
  {
   "cell_type":"code",
   "source":[
    "for dataset in combine:\n",
    "    dataset[\"IsAlone\"] = 0\n",
    "    dataset.loc[dataset[\"Family\"] == 1, \"IsAlone\"] = 1\n",
    "\n",
    "train[[\"IsAlone\", 'Survived']].groupby([\"IsAlone\"], as_index=False).mean()"
   ],
   "execution_count":67,
   "outputs":[
    {
     "data":{
      "text\/html":[
       "<div>\n",
       "<style scoped>\n",
       "    .dataframe tbody tr th:only-of-type {\n",
       "        vertical-align: middle;\n",
       "    }\n",
       "\n",
       "    .dataframe tbody tr th {\n",
       "        vertical-align: top;\n",
       "    }\n",
       "\n",
       "    .dataframe thead th {\n",
       "        text-align: right;\n",
       "    }\n",
       "<\/style>\n",
       "<table border=\"1\" class=\"dataframe\">\n",
       "  <thead>\n",
       "    <tr style=\"text-align: right;\">\n",
       "      <th><\/th>\n",
       "      <th>IsAlone<\/th>\n",
       "      <th>Survived<\/th>\n",
       "    <\/tr>\n",
       "  <\/thead>\n",
       "  <tbody>\n",
       "    <tr>\n",
       "      <th>0<\/th>\n",
       "      <td>0<\/td>\n",
       "      <td>0.505650<\/td>\n",
       "    <\/tr>\n",
       "    <tr>\n",
       "      <th>1<\/th>\n",
       "      <td>1<\/td>\n",
       "      <td>0.303538<\/td>\n",
       "    <\/tr>\n",
       "  <\/tbody>\n",
       "<\/table>\n",
       "<\/div>"
      ]
     },
     "metadata":{
      
     },
     "output_type":"display_data"
    }
   ],
   "metadata":{
    "datalore":{
     "node_id":"Q6nJb7NcgP57h5qLcbmIdX",
     "type":"CODE",
     "hide_input_from_viewers":false,
     "hide_output_from_viewers":false
    }
   }
  },
  {
   "cell_type":"code",
   "source":[
    "train = train.drop([\"Parch\", \"SibSp\", \"Family\"], axis=1)\n",
    "test = test.drop([\"Parch\", \"SibSp\", \"Family\"], axis=1)\n",
    "combine = [train, test]\n",
    "train.head(3)"
   ],
   "execution_count":68,
   "outputs":[
    {
     "data":{
      "text\/html":[
       "<div>\n",
       "<style scoped>\n",
       "    .dataframe tbody tr th:only-of-type {\n",
       "        vertical-align: middle;\n",
       "    }\n",
       "\n",
       "    .dataframe tbody tr th {\n",
       "        vertical-align: top;\n",
       "    }\n",
       "\n",
       "    .dataframe thead th {\n",
       "        text-align: right;\n",
       "    }\n",
       "<\/style>\n",
       "<table border=\"1\" class=\"dataframe\">\n",
       "  <thead>\n",
       "    <tr style=\"text-align: right;\">\n",
       "      <th><\/th>\n",
       "      <th>Survived<\/th>\n",
       "      <th>Pclass<\/th>\n",
       "      <th>Sex<\/th>\n",
       "      <th>Age<\/th>\n",
       "      <th>Fare<\/th>\n",
       "      <th>Embarked<\/th>\n",
       "      <th>Title<\/th>\n",
       "      <th>IsAlone<\/th>\n",
       "    <\/tr>\n",
       "  <\/thead>\n",
       "  <tbody>\n",
       "    <tr>\n",
       "      <th>0<\/th>\n",
       "      <td>0<\/td>\n",
       "      <td>3<\/td>\n",
       "      <td>0<\/td>\n",
       "      <td>1<\/td>\n",
       "      <td>7.2500<\/td>\n",
       "      <td>S<\/td>\n",
       "      <td>1<\/td>\n",
       "      <td>0<\/td>\n",
       "    <\/tr>\n",
       "    <tr>\n",
       "      <th>1<\/th>\n",
       "      <td>1<\/td>\n",
       "      <td>1<\/td>\n",
       "      <td>1<\/td>\n",
       "      <td>2<\/td>\n",
       "      <td>71.2833<\/td>\n",
       "      <td>C<\/td>\n",
       "      <td>3<\/td>\n",
       "      <td>0<\/td>\n",
       "    <\/tr>\n",
       "    <tr>\n",
       "      <th>2<\/th>\n",
       "      <td>1<\/td>\n",
       "      <td>3<\/td>\n",
       "      <td>1<\/td>\n",
       "      <td>1<\/td>\n",
       "      <td>7.9250<\/td>\n",
       "      <td>S<\/td>\n",
       "      <td>2<\/td>\n",
       "      <td>1<\/td>\n",
       "    <\/tr>\n",
       "  <\/tbody>\n",
       "<\/table>\n",
       "<\/div>"
      ]
     },
     "metadata":{
      
     },
     "output_type":"display_data"
    }
   ],
   "metadata":{
    "datalore":{
     "node_id":"tsYr6nlFqFRiCYRddGSWil",
     "type":"CODE",
     "hide_input_from_viewers":false,
     "hide_output_from_viewers":false
    }
   }
  },
  {
   "cell_type":"markdown",
   "source":[
    "**CONVERTING EMBARKED TO NUMERIC**\n",
    "\n",
    "In this section, I am converting the categorical feature Embarked, to numeric. \n",
    "\n",
    "Before doing so, since the embarked feature has some empty rows, I will be completing that first. I will be filling these empty spaces with te most frequent port used to embark by the passengers."
   ],
   "attachments":{
    
   },
   "metadata":{
    "datalore":{
     "node_id":"327K25MXSr34TvWEXe8y24",
     "type":"MD",
     "hide_input_from_viewers":false,
     "hide_output_from_viewers":false
    }
   }
  },
  {
   "cell_type":"code",
   "source":[
    "com_port = train.Embarked.dropna().mode()[0]\n",
    "com_port"
   ],
   "execution_count":69,
   "outputs":[
    {
     "data":{
      "text\/plain":[
       "'S'"
      ]
     },
     "metadata":{
      
     },
     "output_type":"display_data"
    }
   ],
   "metadata":{
    "datalore":{
     "node_id":"sTawtZ0iaVPbyH0M6tuso6",
     "type":"CODE",
     "hide_input_from_viewers":false,
     "hide_output_from_viewers":false
    }
   }
  },
  {
   "cell_type":"code",
   "source":[
    "for dataset in combine:\n",
    "    dataset[\"Embarked\"] = dataset[\"Embarked\"].fillna(com_port)\n",
    "    \n",
    "train[[\"Embarked\", \"Survived\"]].groupby([\"Embarked\"], as_index=False).mean().sort_values(by=\"Survived\", ascending=False)"
   ],
   "execution_count":70,
   "outputs":[
    {
     "data":{
      "text\/html":[
       "<div>\n",
       "<style scoped>\n",
       "    .dataframe tbody tr th:only-of-type {\n",
       "        vertical-align: middle;\n",
       "    }\n",
       "\n",
       "    .dataframe tbody tr th {\n",
       "        vertical-align: top;\n",
       "    }\n",
       "\n",
       "    .dataframe thead th {\n",
       "        text-align: right;\n",
       "    }\n",
       "<\/style>\n",
       "<table border=\"1\" class=\"dataframe\">\n",
       "  <thead>\n",
       "    <tr style=\"text-align: right;\">\n",
       "      <th><\/th>\n",
       "      <th>Embarked<\/th>\n",
       "      <th>Survived<\/th>\n",
       "    <\/tr>\n",
       "  <\/thead>\n",
       "  <tbody>\n",
       "    <tr>\n",
       "      <th>0<\/th>\n",
       "      <td>C<\/td>\n",
       "      <td>0.553571<\/td>\n",
       "    <\/tr>\n",
       "    <tr>\n",
       "      <th>1<\/th>\n",
       "      <td>Q<\/td>\n",
       "      <td>0.389610<\/td>\n",
       "    <\/tr>\n",
       "    <tr>\n",
       "      <th>2<\/th>\n",
       "      <td>S<\/td>\n",
       "      <td>0.339009<\/td>\n",
       "    <\/tr>\n",
       "  <\/tbody>\n",
       "<\/table>\n",
       "<\/div>"
      ]
     },
     "metadata":{
      
     },
     "output_type":"display_data"
    }
   ],
   "metadata":{
    "datalore":{
     "node_id":"O94qvQsKfe8gRSi8yM7v9E",
     "type":"CODE",
     "hide_input_from_viewers":false,
     "hide_output_from_viewers":false
    }
   }
  },
  {
   "cell_type":"code",
   "source":[
    "for dataset in combine:\n",
    "    dataset[\"Embarked\"] = dataset[\"Embarked\"].map({\"S\": 0, \"C\": 1, \"Q\": 2}).astype(int)\n",
    "train.head(3)"
   ],
   "execution_count":71,
   "outputs":[
    {
     "data":{
      "text\/html":[
       "<div>\n",
       "<style scoped>\n",
       "    .dataframe tbody tr th:only-of-type {\n",
       "        vertical-align: middle;\n",
       "    }\n",
       "\n",
       "    .dataframe tbody tr th {\n",
       "        vertical-align: top;\n",
       "    }\n",
       "\n",
       "    .dataframe thead th {\n",
       "        text-align: right;\n",
       "    }\n",
       "<\/style>\n",
       "<table border=\"1\" class=\"dataframe\">\n",
       "  <thead>\n",
       "    <tr style=\"text-align: right;\">\n",
       "      <th><\/th>\n",
       "      <th>Survived<\/th>\n",
       "      <th>Pclass<\/th>\n",
       "      <th>Sex<\/th>\n",
       "      <th>Age<\/th>\n",
       "      <th>Fare<\/th>\n",
       "      <th>Embarked<\/th>\n",
       "      <th>Title<\/th>\n",
       "      <th>IsAlone<\/th>\n",
       "    <\/tr>\n",
       "  <\/thead>\n",
       "  <tbody>\n",
       "    <tr>\n",
       "      <th>0<\/th>\n",
       "      <td>0<\/td>\n",
       "      <td>3<\/td>\n",
       "      <td>0<\/td>\n",
       "      <td>1<\/td>\n",
       "      <td>7.2500<\/td>\n",
       "      <td>0<\/td>\n",
       "      <td>1<\/td>\n",
       "      <td>0<\/td>\n",
       "    <\/tr>\n",
       "    <tr>\n",
       "      <th>1<\/th>\n",
       "      <td>1<\/td>\n",
       "      <td>1<\/td>\n",
       "      <td>1<\/td>\n",
       "      <td>2<\/td>\n",
       "      <td>71.2833<\/td>\n",
       "      <td>1<\/td>\n",
       "      <td>3<\/td>\n",
       "      <td>0<\/td>\n",
       "    <\/tr>\n",
       "    <tr>\n",
       "      <th>2<\/th>\n",
       "      <td>1<\/td>\n",
       "      <td>3<\/td>\n",
       "      <td>1<\/td>\n",
       "      <td>1<\/td>\n",
       "      <td>7.9250<\/td>\n",
       "      <td>0<\/td>\n",
       "      <td>2<\/td>\n",
       "      <td>1<\/td>\n",
       "    <\/tr>\n",
       "  <\/tbody>\n",
       "<\/table>\n",
       "<\/div>"
      ]
     },
     "metadata":{
      
     },
     "output_type":"display_data"
    }
   ],
   "metadata":{
    "datalore":{
     "node_id":"6V7DVmJU0qmrHf87D6JmjW",
     "type":"CODE",
     "hide_input_from_viewers":false,
     "hide_output_from_viewers":false
    }
   }
  },
  {
   "cell_type":"markdown",
   "source":[
    "**COMPLETE AND CATEGORIZE FARE**\n",
    "\n",
    "In this section, I am filling any empty rows in the Fare column with the fare value that is most common.\n",
    "\n",
    "Once the empty spaces have been filled, I have grouped the fare amounts."
   ],
   "attachments":{
    
   },
   "metadata":{
    "datalore":{
     "node_id":"nBJB6LNyCetYRc61XGXESW",
     "type":"MD",
     "hide_input_from_viewers":false,
     "hide_output_from_viewers":false
    }
   }
  },
  {
   "cell_type":"code",
   "source":[
    "test[\"Fare\"].fillna(test[\"Fare\"].dropna().median(), inplace=True)\n",
    "train[\"FareGroup\"] = pd.qcut(train[\"Fare\"], 4)\n",
    "train[[\"FareGroup\", \"Survived\"]].groupby([\"FareGroup\"], as_index=False).mean().sort_values(by=\"FareGroup\", ascending=True)"
   ],
   "execution_count":72,
   "outputs":[
    {
     "data":{
      "text\/html":[
       "<div>\n",
       "<style scoped>\n",
       "    .dataframe tbody tr th:only-of-type {\n",
       "        vertical-align: middle;\n",
       "    }\n",
       "\n",
       "    .dataframe tbody tr th {\n",
       "        vertical-align: top;\n",
       "    }\n",
       "\n",
       "    .dataframe thead th {\n",
       "        text-align: right;\n",
       "    }\n",
       "<\/style>\n",
       "<table border=\"1\" class=\"dataframe\">\n",
       "  <thead>\n",
       "    <tr style=\"text-align: right;\">\n",
       "      <th><\/th>\n",
       "      <th>FareGroup<\/th>\n",
       "      <th>Survived<\/th>\n",
       "    <\/tr>\n",
       "  <\/thead>\n",
       "  <tbody>\n",
       "    <tr>\n",
       "      <th>0<\/th>\n",
       "      <td>(-0.001, 7.91]<\/td>\n",
       "      <td>0.197309<\/td>\n",
       "    <\/tr>\n",
       "    <tr>\n",
       "      <th>1<\/th>\n",
       "      <td>(7.91, 14.454]<\/td>\n",
       "      <td>0.303571<\/td>\n",
       "    <\/tr>\n",
       "    <tr>\n",
       "      <th>2<\/th>\n",
       "      <td>(14.454, 31.0]<\/td>\n",
       "      <td>0.454955<\/td>\n",
       "    <\/tr>\n",
       "    <tr>\n",
       "      <th>3<\/th>\n",
       "      <td>(31.0, 512.329]<\/td>\n",
       "      <td>0.581081<\/td>\n",
       "    <\/tr>\n",
       "  <\/tbody>\n",
       "<\/table>\n",
       "<\/div>"
      ]
     },
     "metadata":{
      
     },
     "output_type":"display_data"
    }
   ],
   "metadata":{
    "datalore":{
     "node_id":"KAUlSSaN8gw154muBaPEnl",
     "type":"CODE",
     "hide_input_from_viewers":false,
     "hide_output_from_viewers":false
    }
   }
  },
  {
   "cell_type":"markdown",
   "source":[
    "Since we do not the actual fare value, I have simply converted the Fare feature according to the FareGroup calculated."
   ],
   "attachments":{
    
   },
   "metadata":{
    "datalore":{
     "node_id":"MTlw4iUynLFdaCvmz9oqXc",
     "type":"MD",
     "hide_input_from_viewers":false,
     "hide_output_from_viewers":false
    }
   }
  },
  {
   "cell_type":"code",
   "source":[
    "for dataset in combine:\n",
    "    dataset.loc[ dataset[\"Fare\"] <= 7.91, \"Fare\"] = 0\n",
    "    dataset.loc[(dataset[\"Fare\"] > 7.91) & (dataset[\"Fare\"] <= 14.454), 'Fare'] = 1\n",
    "    dataset.loc[(dataset[\"Fare\"] > 14.454) & (dataset[\"Fare\"] <= 31), 'Fare']   = 2\n",
    "    dataset.loc[ dataset[\"Fare\"] > 31, \"Fare\"] = 3\n",
    "    dataset['Fare'] = dataset[\"Fare\"].astype(int)\n",
    "\n",
    "train = train.drop([\"FareGroup\"], axis=1)\n",
    "combine = [train, test]\n",
    "train.head(3)"
   ],
   "execution_count":73,
   "outputs":[
    {
     "data":{
      "text\/html":[
       "<div>\n",
       "<style scoped>\n",
       "    .dataframe tbody tr th:only-of-type {\n",
       "        vertical-align: middle;\n",
       "    }\n",
       "\n",
       "    .dataframe tbody tr th {\n",
       "        vertical-align: top;\n",
       "    }\n",
       "\n",
       "    .dataframe thead th {\n",
       "        text-align: right;\n",
       "    }\n",
       "<\/style>\n",
       "<table border=\"1\" class=\"dataframe\">\n",
       "  <thead>\n",
       "    <tr style=\"text-align: right;\">\n",
       "      <th><\/th>\n",
       "      <th>Survived<\/th>\n",
       "      <th>Pclass<\/th>\n",
       "      <th>Sex<\/th>\n",
       "      <th>Age<\/th>\n",
       "      <th>Fare<\/th>\n",
       "      <th>Embarked<\/th>\n",
       "      <th>Title<\/th>\n",
       "      <th>IsAlone<\/th>\n",
       "    <\/tr>\n",
       "  <\/thead>\n",
       "  <tbody>\n",
       "    <tr>\n",
       "      <th>0<\/th>\n",
       "      <td>0<\/td>\n",
       "      <td>3<\/td>\n",
       "      <td>0<\/td>\n",
       "      <td>1<\/td>\n",
       "      <td>0<\/td>\n",
       "      <td>0<\/td>\n",
       "      <td>1<\/td>\n",
       "      <td>0<\/td>\n",
       "    <\/tr>\n",
       "    <tr>\n",
       "      <th>1<\/th>\n",
       "      <td>1<\/td>\n",
       "      <td>1<\/td>\n",
       "      <td>1<\/td>\n",
       "      <td>2<\/td>\n",
       "      <td>3<\/td>\n",
       "      <td>1<\/td>\n",
       "      <td>3<\/td>\n",
       "      <td>0<\/td>\n",
       "    <\/tr>\n",
       "    <tr>\n",
       "      <th>2<\/th>\n",
       "      <td>1<\/td>\n",
       "      <td>3<\/td>\n",
       "      <td>1<\/td>\n",
       "      <td>1<\/td>\n",
       "      <td>1<\/td>\n",
       "      <td>0<\/td>\n",
       "      <td>2<\/td>\n",
       "      <td>1<\/td>\n",
       "    <\/tr>\n",
       "  <\/tbody>\n",
       "<\/table>\n",
       "<\/div>"
      ]
     },
     "metadata":{
      
     },
     "output_type":"display_data"
    }
   ],
   "metadata":{
    "datalore":{
     "node_id":"ORhqp0QVcwkGtCPGOop7oC",
     "type":"CODE",
     "hide_input_from_viewers":false,
     "hide_output_from_viewers":false
    }
   }
  },
  {
   "cell_type":"markdown",
   "source":[
    "## **MODELLING AND QUESTION ANSWERING**"
   ],
   "attachments":{
    
   },
   "metadata":{
    "datalore":{
     "node_id":"oecy0ixPEh2RjeMIjFmnsB",
     "type":"MD",
     "hide_input_from_viewers":false,
     "hide_output_from_viewers":false
    }
   }
  },
  {
   "cell_type":"code",
   "source":[
    "X_train = train.drop(\"Survived\", axis=1)\n",
    "Y_train = train[\"Survived\"]\n",
    "X_test  = test.drop(\"PassengerId\", axis=1).copy()\n",
    "X_train.shape, Y_train.shape, X_test.shape"
   ],
   "execution_count":74,
   "outputs":[
    {
     "data":{
      "text\/plain":[
       "((891, 7), (891,), (418, 7))"
      ]
     },
     "metadata":{
      
     },
     "output_type":"display_data"
    }
   ],
   "metadata":{
    "datalore":{
     "node_id":"Uhl8CYhrotwouvCGVDlahw",
     "type":"CODE",
     "hide_input_from_viewers":false,
     "hide_output_from_viewers":false
    }
   }
  },
  {
   "cell_type":"markdown",
   "source":[
    "**LOGISTIC REGRESSION MODEL**\n",
    "\n",
    "Logistic Regression is an appropriate model to use since we are still early in the workflow. It is useful since it will help me to measure the relationship between the categorical feature and the other features by estimating probabilities using a logistic function. This is the cumulative logistic distribution."
   ],
   "attachments":{
    
   },
   "metadata":{
    "datalore":{
     "node_id":"RJkNNA007b5HuApNbIGHJg",
     "type":"MD",
     "hide_input_from_viewers":false,
     "hide_output_from_viewers":false
    }
   }
  },
  {
   "cell_type":"code",
   "source":[
    "log_reg = LogisticRegression()\n",
    "log_reg.fit(X_train, Y_train)\n",
    "Y_pred = log_reg.predict(X_test)\n",
    "acc_log = round(log_reg.score(X_train, Y_train) * 100, 2)\n",
    "acc_log"
   ],
   "execution_count":75,
   "outputs":[
    {
     "data":{
      "text\/plain":[
       "81.37"
      ]
     },
     "metadata":{
      
     },
     "output_type":"display_data"
    }
   ],
   "metadata":{
    "datalore":{
     "node_id":"vov3aEFvEs8SRpietN3Egr",
     "type":"CODE",
     "hide_input_from_viewers":false,
     "hide_output_from_viewers":false
    }
   }
  },
  {
   "cell_type":"code",
   "source":[
    "coeff = pd.DataFrame(train.columns.delete(0))\n",
    "coeff.columns = [\"Feature\"]\n",
    "coeff[\"Correlation\"] = pd.Series(log_reg.coef_[0])\n",
    "coeff.sort_values(by='Correlation', ascending=False)"
   ],
   "execution_count":76,
   "outputs":[
    {
     "data":{
      "text\/html":[
       "<div>\n",
       "<style scoped>\n",
       "    .dataframe tbody tr th:only-of-type {\n",
       "        vertical-align: middle;\n",
       "    }\n",
       "\n",
       "    .dataframe tbody tr th {\n",
       "        vertical-align: top;\n",
       "    }\n",
       "\n",
       "    .dataframe thead th {\n",
       "        text-align: right;\n",
       "    }\n",
       "<\/style>\n",
       "<table border=\"1\" class=\"dataframe\">\n",
       "  <thead>\n",
       "    <tr style=\"text-align: right;\">\n",
       "      <th><\/th>\n",
       "      <th>Feature<\/th>\n",
       "      <th>Correlation<\/th>\n",
       "    <\/tr>\n",
       "  <\/thead>\n",
       "  <tbody>\n",
       "    <tr>\n",
       "      <th>1<\/th>\n",
       "      <td>Sex<\/td>\n",
       "      <td>2.193429<\/td>\n",
       "    <\/tr>\n",
       "    <tr>\n",
       "      <th>5<\/th>\n",
       "      <td>Title<\/td>\n",
       "      <td>0.408985<\/td>\n",
       "    <\/tr>\n",
       "    <tr>\n",
       "      <th>4<\/th>\n",
       "      <td>Embarked<\/td>\n",
       "      <td>0.282289<\/td>\n",
       "    <\/tr>\n",
       "    <tr>\n",
       "      <th>6<\/th>\n",
       "      <td>IsAlone<\/td>\n",
       "      <td>0.185954<\/td>\n",
       "    <\/tr>\n",
       "    <tr>\n",
       "      <th>3<\/th>\n",
       "      <td>Fare<\/td>\n",
       "      <td>-0.065545<\/td>\n",
       "    <\/tr>\n",
       "    <tr>\n",
       "      <th>2<\/th>\n",
       "      <td>Age<\/td>\n",
       "      <td>-0.564966<\/td>\n",
       "    <\/tr>\n",
       "    <tr>\n",
       "      <th>0<\/th>\n",
       "      <td>Pclass<\/td>\n",
       "      <td>-1.262582<\/td>\n",
       "    <\/tr>\n",
       "  <\/tbody>\n",
       "<\/table>\n",
       "<\/div>"
      ]
     },
     "metadata":{
      
     },
     "output_type":"display_data"
    }
   ],
   "metadata":{
    "datalore":{
     "node_id":"8fRpir3FkC25AYktz8fshp",
     "type":"CODE",
     "hide_input_from_viewers":false,
     "hide_output_from_viewers":false
    }
   }
  },
  {
   "cell_type":"markdown",
   "source":[
    "In the section above, you see the coefficients of every feature calculated in the decision function.\n",
    "\n",
    "Positive coefficients indicate a higher probability and negative coefficients decrease the probability. From this I come to the conclusions:\n",
    "- Sex: This feature has the highest probability. This implies that as the value increases (male=0 and female=1), the probability of Survived=1 increases as well. \n",
    "- Pclass: This feature as the lowest probability. As the Pclass value increases (Pclass=1, Pclass=2, and Pclass=3), the probability of Survived=1 decreases. So, the lower he Pclass value, higher the survival chances."
   ],
   "attachments":{
    
   },
   "metadata":{
    "datalore":{
     "node_id":"IpLDlHUHsx5kovSMbauLNB",
     "type":"MD",
     "hide_input_from_viewers":false,
     "hide_output_from_viewers":false
    }
   }
  },
  {
   "cell_type":"markdown",
   "source":[
    "**K-NEAREST NEIGHBOURS MODEL**\n",
    "\n",
    "The k-NN algorithm is a non-parametric method used to classify and for regression. In this method, a sample is classified by majority vote of its neighbours and the sample is assigned to the class most common among its k nearest neighbours. \n",
    "\n",
    "The confidence score of KNN is better than Logistic Regression."
   ],
   "attachments":{
    
   },
   "metadata":{
    "datalore":{
     "node_id":"CTUmjwztewqAbZRLJwATcu",
     "type":"MD",
     "hide_input_from_viewers":false,
     "hide_output_from_viewers":false
    }
   }
  },
  {
   "cell_type":"code",
   "source":[
    "knn = KNeighborsClassifier(n_neighbors = 3)\n",
    "knn.fit(X_train, Y_train)\n",
    "# noinspection PyRedeclaration\n",
    "Y_pred = knn.predict(X_test)\n",
    "acc_knn = round(knn.score(X_train, Y_train) * 100, 2)\n",
    "acc_knn"
   ],
   "execution_count":77,
   "outputs":[
    {
     "data":{
      "text\/plain":[
       "84.29"
      ]
     },
     "metadata":{
      
     },
     "output_type":"display_data"
    }
   ],
   "metadata":{
    "datalore":{
     "node_id":"EiVQ6XBIWbZ04p9byB7uIw",
     "type":"CODE",
     "hide_input_from_viewers":false,
     "hide_output_from_viewers":false
    }
   }
  },
  {
   "cell_type":"markdown",
   "source":[
    "**DECISION TREE**\n",
    "\n",
    "In the Decision tree model, features (tree branches) are mapped to the conclusions about the target values (tree leaves). \n",
    "\n",
    "The model confidence score for Decision Tree is the highest."
   ],
   "attachments":{
    
   },
   "metadata":{
    "datalore":{
     "node_id":"IrREUsH5sr6T5b1qUQ4nPN",
     "type":"MD",
     "hide_input_from_viewers":false,
     "hide_output_from_viewers":false
    }
   }
  },
  {
   "cell_type":"code",
   "source":[
    "decision_tree = DecisionTreeClassifier()\n",
    "decision_tree.fit(X_train, Y_train)\n",
    "# noinspection PyRedeclaration\n",
    "Y_pred = decision_tree.predict(X_test)\n",
    "acc_decision_tree = round(decision_tree.score(X_train, Y_train) * 100, 2)\n",
    "acc_decision_tree"
   ],
   "execution_count":78,
   "outputs":[
    {
     "data":{
      "text\/plain":[
       "86.64"
      ]
     },
     "metadata":{
      
     },
     "output_type":"display_data"
    }
   ],
   "metadata":{
    "datalore":{
     "node_id":"hg9ahGH7sgxZo6MaLcP4oz",
     "type":"CODE",
     "hide_input_from_viewers":false,
     "hide_output_from_viewers":false
    }
   }
  }
 ],
 "metadata":{
  "kernelspec":{
   "display_name":"Python",
   "language":"python",
   "name":"python"
  },
  "datalore":{
   "version":1,
   "computation_mode":"JUPYTER",
   "package_manager":"pip",
   "base_environment":"default",
   "packages":[
    
   ]
  }
 },
 "nbformat":4,
 "nbformat_minor":4
}